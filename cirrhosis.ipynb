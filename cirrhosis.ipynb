{
 "cells": [
  {
   "cell_type": "markdown",
   "metadata": {},
   "source": [
    "# Cirrhosis Predictor"
   ]
  },
  {
   "cell_type": "code",
   "execution_count": 1,
   "metadata": {},
   "outputs": [],
   "source": [
    "import pandas as pd\n",
    "import numpy as np\n",
    "import seaborn as sns\n",
    "import matplotlib.pyplot as plt"
   ]
  },
  {
   "cell_type": "code",
   "execution_count": 2,
   "metadata": {},
   "outputs": [],
   "source": [
    "train = pd.read_csv('data/train.csv')\n",
    "test  = pd.read_csv('data/test.csv')"
   ]
  },
  {
   "cell_type": "code",
   "execution_count": 3,
   "metadata": {},
   "outputs": [
    {
     "data": {
      "text/html": [
       "<div>\n",
       "<style scoped>\n",
       "    .dataframe tbody tr th:only-of-type {\n",
       "        vertical-align: middle;\n",
       "    }\n",
       "\n",
       "    .dataframe tbody tr th {\n",
       "        vertical-align: top;\n",
       "    }\n",
       "\n",
       "    .dataframe thead th {\n",
       "        text-align: right;\n",
       "    }\n",
       "</style>\n",
       "<table border=\"1\" class=\"dataframe\">\n",
       "  <thead>\n",
       "    <tr style=\"text-align: right;\">\n",
       "      <th></th>\n",
       "      <th>N_Days</th>\n",
       "      <th>Drug</th>\n",
       "      <th>Age</th>\n",
       "      <th>Sex</th>\n",
       "      <th>Ascites</th>\n",
       "      <th>Hepatomegaly</th>\n",
       "      <th>Spiders</th>\n",
       "      <th>Edema</th>\n",
       "      <th>Bilirubin</th>\n",
       "      <th>Cholesterol</th>\n",
       "      <th>Albumin</th>\n",
       "      <th>Copper</th>\n",
       "      <th>Alk_Phos</th>\n",
       "      <th>SGOT</th>\n",
       "      <th>Tryglicerides</th>\n",
       "      <th>Platelets</th>\n",
       "      <th>Prothrombin</th>\n",
       "      <th>Stage</th>\n",
       "      <th>Status</th>\n",
       "    </tr>\n",
       "    <tr>\n",
       "      <th>id</th>\n",
       "      <th></th>\n",
       "      <th></th>\n",
       "      <th></th>\n",
       "      <th></th>\n",
       "      <th></th>\n",
       "      <th></th>\n",
       "      <th></th>\n",
       "      <th></th>\n",
       "      <th></th>\n",
       "      <th></th>\n",
       "      <th></th>\n",
       "      <th></th>\n",
       "      <th></th>\n",
       "      <th></th>\n",
       "      <th></th>\n",
       "      <th></th>\n",
       "      <th></th>\n",
       "      <th></th>\n",
       "      <th></th>\n",
       "    </tr>\n",
       "  </thead>\n",
       "  <tbody>\n",
       "    <tr>\n",
       "      <th>0</th>\n",
       "      <td>999</td>\n",
       "      <td>D-penicillamine</td>\n",
       "      <td>21532</td>\n",
       "      <td>M</td>\n",
       "      <td>N</td>\n",
       "      <td>N</td>\n",
       "      <td>N</td>\n",
       "      <td>N</td>\n",
       "      <td>2.3</td>\n",
       "      <td>316.0</td>\n",
       "      <td>3.35</td>\n",
       "      <td>172.0</td>\n",
       "      <td>1601.0</td>\n",
       "      <td>179.80</td>\n",
       "      <td>63.0</td>\n",
       "      <td>394.0</td>\n",
       "      <td>9.7</td>\n",
       "      <td>3.0</td>\n",
       "      <td>D</td>\n",
       "    </tr>\n",
       "    <tr>\n",
       "      <th>1</th>\n",
       "      <td>2574</td>\n",
       "      <td>Placebo</td>\n",
       "      <td>19237</td>\n",
       "      <td>F</td>\n",
       "      <td>N</td>\n",
       "      <td>N</td>\n",
       "      <td>N</td>\n",
       "      <td>N</td>\n",
       "      <td>0.9</td>\n",
       "      <td>364.0</td>\n",
       "      <td>3.54</td>\n",
       "      <td>63.0</td>\n",
       "      <td>1440.0</td>\n",
       "      <td>134.85</td>\n",
       "      <td>88.0</td>\n",
       "      <td>361.0</td>\n",
       "      <td>11.0</td>\n",
       "      <td>3.0</td>\n",
       "      <td>C</td>\n",
       "    </tr>\n",
       "    <tr>\n",
       "      <th>2</th>\n",
       "      <td>3428</td>\n",
       "      <td>Placebo</td>\n",
       "      <td>13727</td>\n",
       "      <td>F</td>\n",
       "      <td>N</td>\n",
       "      <td>Y</td>\n",
       "      <td>Y</td>\n",
       "      <td>Y</td>\n",
       "      <td>3.3</td>\n",
       "      <td>299.0</td>\n",
       "      <td>3.55</td>\n",
       "      <td>131.0</td>\n",
       "      <td>1029.0</td>\n",
       "      <td>119.35</td>\n",
       "      <td>50.0</td>\n",
       "      <td>199.0</td>\n",
       "      <td>11.7</td>\n",
       "      <td>4.0</td>\n",
       "      <td>D</td>\n",
       "    </tr>\n",
       "    <tr>\n",
       "      <th>3</th>\n",
       "      <td>2576</td>\n",
       "      <td>Placebo</td>\n",
       "      <td>18460</td>\n",
       "      <td>F</td>\n",
       "      <td>N</td>\n",
       "      <td>N</td>\n",
       "      <td>N</td>\n",
       "      <td>N</td>\n",
       "      <td>0.6</td>\n",
       "      <td>256.0</td>\n",
       "      <td>3.50</td>\n",
       "      <td>58.0</td>\n",
       "      <td>1653.0</td>\n",
       "      <td>71.30</td>\n",
       "      <td>96.0</td>\n",
       "      <td>269.0</td>\n",
       "      <td>10.7</td>\n",
       "      <td>3.0</td>\n",
       "      <td>C</td>\n",
       "    </tr>\n",
       "    <tr>\n",
       "      <th>4</th>\n",
       "      <td>788</td>\n",
       "      <td>Placebo</td>\n",
       "      <td>16658</td>\n",
       "      <td>F</td>\n",
       "      <td>N</td>\n",
       "      <td>Y</td>\n",
       "      <td>N</td>\n",
       "      <td>N</td>\n",
       "      <td>1.1</td>\n",
       "      <td>346.0</td>\n",
       "      <td>3.65</td>\n",
       "      <td>63.0</td>\n",
       "      <td>1181.0</td>\n",
       "      <td>125.55</td>\n",
       "      <td>96.0</td>\n",
       "      <td>298.0</td>\n",
       "      <td>10.6</td>\n",
       "      <td>4.0</td>\n",
       "      <td>C</td>\n",
       "    </tr>\n",
       "  </tbody>\n",
       "</table>\n",
       "</div>"
      ],
      "text/plain": [
       "    N_Days             Drug    Age Sex Ascites Hepatomegaly Spiders Edema  \\\n",
       "id                                                                          \n",
       "0      999  D-penicillamine  21532   M       N            N       N     N   \n",
       "1     2574          Placebo  19237   F       N            N       N     N   \n",
       "2     3428          Placebo  13727   F       N            Y       Y     Y   \n",
       "3     2576          Placebo  18460   F       N            N       N     N   \n",
       "4      788          Placebo  16658   F       N            Y       N     N   \n",
       "\n",
       "    Bilirubin  Cholesterol  Albumin  Copper  Alk_Phos    SGOT  Tryglicerides  \\\n",
       "id                                                                             \n",
       "0         2.3        316.0     3.35   172.0    1601.0  179.80           63.0   \n",
       "1         0.9        364.0     3.54    63.0    1440.0  134.85           88.0   \n",
       "2         3.3        299.0     3.55   131.0    1029.0  119.35           50.0   \n",
       "3         0.6        256.0     3.50    58.0    1653.0   71.30           96.0   \n",
       "4         1.1        346.0     3.65    63.0    1181.0  125.55           96.0   \n",
       "\n",
       "    Platelets  Prothrombin  Stage Status  \n",
       "id                                        \n",
       "0       394.0          9.7    3.0      D  \n",
       "1       361.0         11.0    3.0      C  \n",
       "2       199.0         11.7    4.0      D  \n",
       "3       269.0         10.7    3.0      C  \n",
       "4       298.0         10.6    4.0      C  "
      ]
     },
     "execution_count": 3,
     "metadata": {},
     "output_type": "execute_result"
    }
   ],
   "source": [
    "data = pd.concat([train, test])\n",
    "data.set_index('id', inplace=True)\n",
    "data.head()"
   ]
  },
  {
   "cell_type": "markdown",
   "metadata": {},
   "source": [
    "## Data Cleaning/Wrangling:"
   ]
  },
  {
   "cell_type": "markdown",
   "metadata": {},
   "source": [
    "No NANS due to (given data - not me):\n",
    "1. Drop all the rows where miss value (NA) were present in the Drug column\n",
    "2. Impute missing values with mean results\n",
    "3. One-hot encoding for all category attributes"
   ]
  },
  {
   "cell_type": "code",
   "execution_count": 4,
   "metadata": {},
   "outputs": [
    {
     "data": {
      "text/plain": [
       "N_Days              0\n",
       "Drug                0\n",
       "Age                 0\n",
       "Sex                 0\n",
       "Ascites             0\n",
       "Hepatomegaly        0\n",
       "Spiders             0\n",
       "Edema               0\n",
       "Bilirubin           0\n",
       "Cholesterol         0\n",
       "Albumin             0\n",
       "Copper              0\n",
       "Alk_Phos            0\n",
       "SGOT                0\n",
       "Tryglicerides       0\n",
       "Platelets           0\n",
       "Prothrombin         0\n",
       "Stage               0\n",
       "Status           5271\n",
       "dtype: int64"
      ]
     },
     "execution_count": 4,
     "metadata": {},
     "output_type": "execute_result"
    }
   ],
   "source": [
    "data.isna().sum()"
   ]
  },
  {
   "cell_type": "markdown",
   "metadata": {},
   "source": [
    "- Test set doesn't have its status column (competition determines whether you did good on test set)"
   ]
  },
  {
   "cell_type": "markdown",
   "metadata": {},
   "source": [
    "Converting Age from days to years:"
   ]
  },
  {
   "cell_type": "code",
   "execution_count": 5,
   "metadata": {},
   "outputs": [],
   "source": [
    "data['Age'] = data['Age'] / 365.0"
   ]
  },
  {
   "cell_type": "markdown",
   "metadata": {},
   "source": [
    "## Descriptive Analysis:"
   ]
  },
  {
   "cell_type": "code",
   "execution_count": 6,
   "metadata": {},
   "outputs": [
    {
     "data": {
      "text/plain": [
       "(13176, 19)"
      ]
     },
     "execution_count": 6,
     "metadata": {},
     "output_type": "execute_result"
    }
   ],
   "source": [
    "data.shape"
   ]
  },
  {
   "cell_type": "code",
   "execution_count": 7,
   "metadata": {},
   "outputs": [
    {
     "data": {
      "text/plain": [
       "Index(['N_Days', 'Drug', 'Age', 'Sex', 'Ascites', 'Hepatomegaly', 'Spiders',\n",
       "       'Edema', 'Bilirubin', 'Cholesterol', 'Albumin', 'Copper', 'Alk_Phos',\n",
       "       'SGOT', 'Tryglicerides', 'Platelets', 'Prothrombin', 'Stage', 'Status'],\n",
       "      dtype='object')"
      ]
     },
     "execution_count": 7,
     "metadata": {},
     "output_type": "execute_result"
    }
   ],
   "source": [
    "data.columns"
   ]
  },
  {
   "cell_type": "code",
   "execution_count": 8,
   "metadata": {},
   "outputs": [
    {
     "data": {
      "text/plain": [
       "N_Days             int64\n",
       "Drug              object\n",
       "Age              float64\n",
       "Sex               object\n",
       "Ascites           object\n",
       "Hepatomegaly      object\n",
       "Spiders           object\n",
       "Edema             object\n",
       "Bilirubin        float64\n",
       "Cholesterol      float64\n",
       "Albumin          float64\n",
       "Copper           float64\n",
       "Alk_Phos         float64\n",
       "SGOT             float64\n",
       "Tryglicerides    float64\n",
       "Platelets        float64\n",
       "Prothrombin      float64\n",
       "Stage            float64\n",
       "Status            object\n",
       "dtype: object"
      ]
     },
     "execution_count": 8,
     "metadata": {},
     "output_type": "execute_result"
    }
   ],
   "source": [
    "data.dtypes"
   ]
  },
  {
   "cell_type": "code",
   "execution_count": 9,
   "metadata": {},
   "outputs": [
    {
     "data": {
      "text/html": [
       "<div>\n",
       "<style scoped>\n",
       "    .dataframe tbody tr th:only-of-type {\n",
       "        vertical-align: middle;\n",
       "    }\n",
       "\n",
       "    .dataframe tbody tr th {\n",
       "        vertical-align: top;\n",
       "    }\n",
       "\n",
       "    .dataframe thead th {\n",
       "        text-align: right;\n",
       "    }\n",
       "</style>\n",
       "<table border=\"1\" class=\"dataframe\">\n",
       "  <thead>\n",
       "    <tr style=\"text-align: right;\">\n",
       "      <th></th>\n",
       "      <th>N_Days</th>\n",
       "      <th>Age</th>\n",
       "      <th>Bilirubin</th>\n",
       "      <th>Cholesterol</th>\n",
       "      <th>Albumin</th>\n",
       "      <th>Copper</th>\n",
       "      <th>Alk_Phos</th>\n",
       "      <th>SGOT</th>\n",
       "      <th>Tryglicerides</th>\n",
       "      <th>Platelets</th>\n",
       "      <th>Prothrombin</th>\n",
       "    </tr>\n",
       "  </thead>\n",
       "  <tbody>\n",
       "    <tr>\n",
       "      <th>count</th>\n",
       "      <td>13176.000000</td>\n",
       "      <td>13176.000000</td>\n",
       "      <td>13176.000000</td>\n",
       "      <td>13176.000000</td>\n",
       "      <td>13176.000000</td>\n",
       "      <td>13176.000000</td>\n",
       "      <td>13176.000000</td>\n",
       "      <td>13176.000000</td>\n",
       "      <td>13176.000000</td>\n",
       "      <td>13176.000000</td>\n",
       "      <td>13176.000000</td>\n",
       "    </tr>\n",
       "    <tr>\n",
       "      <th>mean</th>\n",
       "      <td>2033.583030</td>\n",
       "      <td>50.473962</td>\n",
       "      <td>2.596847</td>\n",
       "      <td>351.331815</td>\n",
       "      <td>3.544221</td>\n",
       "      <td>84.222416</td>\n",
       "      <td>1814.540225</td>\n",
       "      <td>114.197725</td>\n",
       "      <td>115.318534</td>\n",
       "      <td>264.746812</td>\n",
       "      <td>10.630823</td>\n",
       "    </tr>\n",
       "    <tr>\n",
       "      <th>std</th>\n",
       "      <td>1091.249998</td>\n",
       "      <td>9.978656</td>\n",
       "      <td>3.828640</td>\n",
       "      <td>197.413677</td>\n",
       "      <td>0.349706</td>\n",
       "      <td>76.558760</td>\n",
       "      <td>1916.383653</td>\n",
       "      <td>48.861248</td>\n",
       "      <td>52.557379</td>\n",
       "      <td>87.511668</td>\n",
       "      <td>0.786116</td>\n",
       "    </tr>\n",
       "    <tr>\n",
       "      <th>min</th>\n",
       "      <td>41.000000</td>\n",
       "      <td>26.295890</td>\n",
       "      <td>0.300000</td>\n",
       "      <td>120.000000</td>\n",
       "      <td>1.960000</td>\n",
       "      <td>4.000000</td>\n",
       "      <td>289.000000</td>\n",
       "      <td>26.350000</td>\n",
       "      <td>33.000000</td>\n",
       "      <td>62.000000</td>\n",
       "      <td>9.000000</td>\n",
       "    </tr>\n",
       "    <tr>\n",
       "      <th>25%</th>\n",
       "      <td>1234.000000</td>\n",
       "      <td>42.772603</td>\n",
       "      <td>0.700000</td>\n",
       "      <td>248.000000</td>\n",
       "      <td>3.350000</td>\n",
       "      <td>39.000000</td>\n",
       "      <td>824.000000</td>\n",
       "      <td>75.950000</td>\n",
       "      <td>84.000000</td>\n",
       "      <td>210.000000</td>\n",
       "      <td>10.000000</td>\n",
       "    </tr>\n",
       "    <tr>\n",
       "      <th>50%</th>\n",
       "      <td>1874.000000</td>\n",
       "      <td>51.284932</td>\n",
       "      <td>1.100000</td>\n",
       "      <td>299.000000</td>\n",
       "      <td>3.580000</td>\n",
       "      <td>63.000000</td>\n",
       "      <td>1166.000000</td>\n",
       "      <td>106.950000</td>\n",
       "      <td>104.000000</td>\n",
       "      <td>264.000000</td>\n",
       "      <td>10.600000</td>\n",
       "    </tr>\n",
       "    <tr>\n",
       "      <th>75%</th>\n",
       "      <td>2689.000000</td>\n",
       "      <td>56.668493</td>\n",
       "      <td>3.000000</td>\n",
       "      <td>390.000000</td>\n",
       "      <td>3.770000</td>\n",
       "      <td>102.000000</td>\n",
       "      <td>1840.000000</td>\n",
       "      <td>137.950000</td>\n",
       "      <td>139.000000</td>\n",
       "      <td>316.000000</td>\n",
       "      <td>11.000000</td>\n",
       "    </tr>\n",
       "    <tr>\n",
       "      <th>max</th>\n",
       "      <td>4795.000000</td>\n",
       "      <td>78.493151</td>\n",
       "      <td>28.000000</td>\n",
       "      <td>1775.000000</td>\n",
       "      <td>4.640000</td>\n",
       "      <td>588.000000</td>\n",
       "      <td>13862.400000</td>\n",
       "      <td>457.250000</td>\n",
       "      <td>598.000000</td>\n",
       "      <td>563.000000</td>\n",
       "      <td>18.000000</td>\n",
       "    </tr>\n",
       "  </tbody>\n",
       "</table>\n",
       "</div>"
      ],
      "text/plain": [
       "             N_Days           Age     Bilirubin   Cholesterol       Albumin  \\\n",
       "count  13176.000000  13176.000000  13176.000000  13176.000000  13176.000000   \n",
       "mean    2033.583030     50.473962      2.596847    351.331815      3.544221   \n",
       "std     1091.249998      9.978656      3.828640    197.413677      0.349706   \n",
       "min       41.000000     26.295890      0.300000    120.000000      1.960000   \n",
       "25%     1234.000000     42.772603      0.700000    248.000000      3.350000   \n",
       "50%     1874.000000     51.284932      1.100000    299.000000      3.580000   \n",
       "75%     2689.000000     56.668493      3.000000    390.000000      3.770000   \n",
       "max     4795.000000     78.493151     28.000000   1775.000000      4.640000   \n",
       "\n",
       "             Copper      Alk_Phos          SGOT  Tryglicerides     Platelets  \\\n",
       "count  13176.000000  13176.000000  13176.000000   13176.000000  13176.000000   \n",
       "mean      84.222416   1814.540225    114.197725     115.318534    264.746812   \n",
       "std       76.558760   1916.383653     48.861248      52.557379     87.511668   \n",
       "min        4.000000    289.000000     26.350000      33.000000     62.000000   \n",
       "25%       39.000000    824.000000     75.950000      84.000000    210.000000   \n",
       "50%       63.000000   1166.000000    106.950000     104.000000    264.000000   \n",
       "75%      102.000000   1840.000000    137.950000     139.000000    316.000000   \n",
       "max      588.000000  13862.400000    457.250000     598.000000    563.000000   \n",
       "\n",
       "        Prothrombin  \n",
       "count  13176.000000  \n",
       "mean      10.630823  \n",
       "std        0.786116  \n",
       "min        9.000000  \n",
       "25%       10.000000  \n",
       "50%       10.600000  \n",
       "75%       11.000000  \n",
       "max       18.000000  "
      ]
     },
     "execution_count": 9,
     "metadata": {},
     "output_type": "execute_result"
    }
   ],
   "source": [
    "data.drop(columns={'Stage'}).describe()\n",
    "# Stage = categorical"
   ]
  },
  {
   "cell_type": "markdown",
   "metadata": {},
   "source": [
    "## EDA:"
   ]
  },
  {
   "cell_type": "markdown",
   "metadata": {},
   "source": [
    "Correlation Matrix:"
   ]
  },
  {
   "cell_type": "code",
   "execution_count": 10,
   "metadata": {},
   "outputs": [
    {
     "data": {
      "text/html": [
       "<style type=\"text/css\">\n",
       "#T_c3ece_row0_col0, #T_c3ece_row0_col1, #T_c3ece_row0_col2, #T_c3ece_row0_col3, #T_c3ece_row0_col4, #T_c3ece_row0_col5, #T_c3ece_row0_col6, #T_c3ece_row0_col7, #T_c3ece_row0_col8, #T_c3ece_row0_col9, #T_c3ece_row0_col10, #T_c3ece_row1_col1, #T_c3ece_row1_col2, #T_c3ece_row1_col3, #T_c3ece_row1_col4, #T_c3ece_row1_col5, #T_c3ece_row1_col6, #T_c3ece_row1_col7, #T_c3ece_row1_col8, #T_c3ece_row1_col9, #T_c3ece_row1_col10, #T_c3ece_row2_col2, #T_c3ece_row2_col3, #T_c3ece_row2_col4, #T_c3ece_row2_col5, #T_c3ece_row2_col6, #T_c3ece_row2_col7, #T_c3ece_row2_col8, #T_c3ece_row2_col9, #T_c3ece_row2_col10, #T_c3ece_row3_col3, #T_c3ece_row3_col4, #T_c3ece_row3_col5, #T_c3ece_row3_col6, #T_c3ece_row3_col7, #T_c3ece_row3_col8, #T_c3ece_row3_col9, #T_c3ece_row3_col10, #T_c3ece_row4_col4, #T_c3ece_row4_col5, #T_c3ece_row4_col6, #T_c3ece_row4_col7, #T_c3ece_row4_col8, #T_c3ece_row4_col9, #T_c3ece_row4_col10, #T_c3ece_row5_col5, #T_c3ece_row5_col6, #T_c3ece_row5_col7, #T_c3ece_row5_col8, #T_c3ece_row5_col9, #T_c3ece_row5_col10, #T_c3ece_row6_col6, #T_c3ece_row6_col7, #T_c3ece_row6_col8, #T_c3ece_row6_col9, #T_c3ece_row6_col10, #T_c3ece_row7_col7, #T_c3ece_row7_col8, #T_c3ece_row7_col9, #T_c3ece_row7_col10, #T_c3ece_row8_col8, #T_c3ece_row8_col9, #T_c3ece_row8_col10, #T_c3ece_row9_col9, #T_c3ece_row9_col10, #T_c3ece_row10_col10 {\n",
       "  background-color: #000000;\n",
       "  color: #f1f1f1;\n",
       "  background-color: f1f1f1;\n",
       "}\n",
       "#T_c3ece_row1_col0, #T_c3ece_row9_col1, #T_c3ece_row9_col5 {\n",
       "  background-color: #cedaeb;\n",
       "  color: #000000;\n",
       "}\n",
       "#T_c3ece_row2_col0 {\n",
       "  background-color: #a9c6fd;\n",
       "  color: #000000;\n",
       "}\n",
       "#T_c3ece_row2_col1, #T_c3ece_row5_col1, #T_c3ece_row9_col3, #T_c3ece_row10_col6 {\n",
       "  background-color: #e8d6cc;\n",
       "  color: #000000;\n",
       "}\n",
       "#T_c3ece_row3_col0 {\n",
       "  background-color: #c9d7f0;\n",
       "  color: #000000;\n",
       "}\n",
       "#T_c3ece_row3_col1 {\n",
       "  background-color: #d5dbe5;\n",
       "  color: #000000;\n",
       "}\n",
       "#T_c3ece_row3_col2, #T_c3ece_row10_col2 {\n",
       "  background-color: #f7bca1;\n",
       "  color: #000000;\n",
       "}\n",
       "#T_c3ece_row4_col0, #T_c3ece_row10_col5 {\n",
       "  background-color: #f5c4ac;\n",
       "  color: #000000;\n",
       "}\n",
       "#T_c3ece_row4_col1, #T_c3ece_row8_col4 {\n",
       "  background-color: #cdd9ec;\n",
       "  color: #000000;\n",
       "}\n",
       "#T_c3ece_row4_col2 {\n",
       "  background-color: #b1cbfc;\n",
       "  color: #000000;\n",
       "}\n",
       "#T_c3ece_row4_col3, #T_c3ece_row6_col4 {\n",
       "  background-color: #cfdaea;\n",
       "  color: #000000;\n",
       "}\n",
       "#T_c3ece_row5_col0 {\n",
       "  background-color: #b2ccfb;\n",
       "  color: #000000;\n",
       "}\n",
       "#T_c3ece_row5_col2 {\n",
       "  background-color: #f6a586;\n",
       "  color: #000000;\n",
       "}\n",
       "#T_c3ece_row5_col3 {\n",
       "  background-color: #efcebd;\n",
       "  color: #000000;\n",
       "}\n",
       "#T_c3ece_row5_col4, #T_c3ece_row7_col0 {\n",
       "  background-color: #bbd1f8;\n",
       "  color: #000000;\n",
       "}\n",
       "#T_c3ece_row6_col0, #T_c3ece_row7_col1 {\n",
       "  background-color: #dadce0;\n",
       "  color: #000000;\n",
       "}\n",
       "#T_c3ece_row6_col1, #T_c3ece_row8_col1, #T_c3ece_row9_col8 {\n",
       "  background-color: #dfdbd9;\n",
       "  color: #000000;\n",
       "}\n",
       "#T_c3ece_row6_col2, #T_c3ece_row9_col0, #T_c3ece_row9_col4, #T_c3ece_row10_col7 {\n",
       "  background-color: #edd2c3;\n",
       "  color: #000000;\n",
       "}\n",
       "#T_c3ece_row6_col3, #T_c3ece_row6_col5, #T_c3ece_row7_col6 {\n",
       "  background-color: #ecd3c5;\n",
       "  color: #000000;\n",
       "}\n",
       "#T_c3ece_row7_col2 {\n",
       "  background-color: #f7b396;\n",
       "  color: #000000;\n",
       "}\n",
       "#T_c3ece_row7_col3 {\n",
       "  background-color: #f7b89c;\n",
       "  color: #000000;\n",
       "}\n",
       "#T_c3ece_row7_col4 {\n",
       "  background-color: #bfd3f6;\n",
       "  color: #000000;\n",
       "}\n",
       "#T_c3ece_row7_col5 {\n",
       "  background-color: #f7b99e;\n",
       "  color: #000000;\n",
       "}\n",
       "#T_c3ece_row8_col0 {\n",
       "  background-color: #c4d5f3;\n",
       "  color: #000000;\n",
       "}\n",
       "#T_c3ece_row8_col2 {\n",
       "  background-color: #f7ba9f;\n",
       "  color: #000000;\n",
       "}\n",
       "#T_c3ece_row8_col3, #T_c3ece_row8_col5 {\n",
       "  background-color: #f5c0a7;\n",
       "  color: #000000;\n",
       "}\n",
       "#T_c3ece_row8_col6 {\n",
       "  background-color: #e9d5cb;\n",
       "  color: #000000;\n",
       "}\n",
       "#T_c3ece_row8_col7 {\n",
       "  background-color: #edd1c2;\n",
       "  color: #000000;\n",
       "}\n",
       "#T_c3ece_row9_col2 {\n",
       "  background-color: #d2dbe8;\n",
       "  color: #000000;\n",
       "}\n",
       "#T_c3ece_row9_col6 {\n",
       "  background-color: #e2dad5;\n",
       "  color: #000000;\n",
       "}\n",
       "#T_c3ece_row9_col7 {\n",
       "  background-color: #d8dce2;\n",
       "  color: #000000;\n",
       "}\n",
       "#T_c3ece_row10_col0 {\n",
       "  background-color: #c7d7f0;\n",
       "  color: #000000;\n",
       "}\n",
       "#T_c3ece_row10_col1 {\n",
       "  background-color: #eed0c0;\n",
       "  color: #000000;\n",
       "}\n",
       "#T_c3ece_row10_col3 {\n",
       "  background-color: #e0dbd8;\n",
       "  color: #000000;\n",
       "}\n",
       "#T_c3ece_row10_col4 {\n",
       "  background-color: #bed2f6;\n",
       "  color: #000000;\n",
       "}\n",
       "#T_c3ece_row10_col8 {\n",
       "  background-color: #e6d7cf;\n",
       "  color: #000000;\n",
       "}\n",
       "#T_c3ece_row10_col9 {\n",
       "  background-color: #c5d6f2;\n",
       "  color: #000000;\n",
       "}\n",
       "</style>\n",
       "<table id=\"T_c3ece\">\n",
       "  <thead>\n",
       "    <tr>\n",
       "      <th class=\"blank level0\" >&nbsp;</th>\n",
       "      <th id=\"T_c3ece_level0_col0\" class=\"col_heading level0 col0\" >N_Days</th>\n",
       "      <th id=\"T_c3ece_level0_col1\" class=\"col_heading level0 col1\" >Age</th>\n",
       "      <th id=\"T_c3ece_level0_col2\" class=\"col_heading level0 col2\" >Bilirubin</th>\n",
       "      <th id=\"T_c3ece_level0_col3\" class=\"col_heading level0 col3\" >Cholesterol</th>\n",
       "      <th id=\"T_c3ece_level0_col4\" class=\"col_heading level0 col4\" >Albumin</th>\n",
       "      <th id=\"T_c3ece_level0_col5\" class=\"col_heading level0 col5\" >Copper</th>\n",
       "      <th id=\"T_c3ece_level0_col6\" class=\"col_heading level0 col6\" >Alk_Phos</th>\n",
       "      <th id=\"T_c3ece_level0_col7\" class=\"col_heading level0 col7\" >SGOT</th>\n",
       "      <th id=\"T_c3ece_level0_col8\" class=\"col_heading level0 col8\" >Tryglicerides</th>\n",
       "      <th id=\"T_c3ece_level0_col9\" class=\"col_heading level0 col9\" >Platelets</th>\n",
       "      <th id=\"T_c3ece_level0_col10\" class=\"col_heading level0 col10\" >Prothrombin</th>\n",
       "    </tr>\n",
       "  </thead>\n",
       "  <tbody>\n",
       "    <tr>\n",
       "      <th id=\"T_c3ece_level0_row0\" class=\"row_heading level0 row0\" >N_Days</th>\n",
       "      <td id=\"T_c3ece_row0_col0\" class=\"data row0 col0\" >nan</td>\n",
       "      <td id=\"T_c3ece_row0_col1\" class=\"data row0 col1\" >nan</td>\n",
       "      <td id=\"T_c3ece_row0_col2\" class=\"data row0 col2\" >nan</td>\n",
       "      <td id=\"T_c3ece_row0_col3\" class=\"data row0 col3\" >nan</td>\n",
       "      <td id=\"T_c3ece_row0_col4\" class=\"data row0 col4\" >nan</td>\n",
       "      <td id=\"T_c3ece_row0_col5\" class=\"data row0 col5\" >nan</td>\n",
       "      <td id=\"T_c3ece_row0_col6\" class=\"data row0 col6\" >nan</td>\n",
       "      <td id=\"T_c3ece_row0_col7\" class=\"data row0 col7\" >nan</td>\n",
       "      <td id=\"T_c3ece_row0_col8\" class=\"data row0 col8\" >nan</td>\n",
       "      <td id=\"T_c3ece_row0_col9\" class=\"data row0 col9\" >nan</td>\n",
       "      <td id=\"T_c3ece_row0_col10\" class=\"data row0 col10\" >nan</td>\n",
       "    </tr>\n",
       "    <tr>\n",
       "      <th id=\"T_c3ece_level0_row1\" class=\"row_heading level0 row1\" >Age</th>\n",
       "      <td id=\"T_c3ece_row1_col0\" class=\"data row1 col0\" >-0.11</td>\n",
       "      <td id=\"T_c3ece_row1_col1\" class=\"data row1 col1\" >nan</td>\n",
       "      <td id=\"T_c3ece_row1_col2\" class=\"data row1 col2\" >nan</td>\n",
       "      <td id=\"T_c3ece_row1_col3\" class=\"data row1 col3\" >nan</td>\n",
       "      <td id=\"T_c3ece_row1_col4\" class=\"data row1 col4\" >nan</td>\n",
       "      <td id=\"T_c3ece_row1_col5\" class=\"data row1 col5\" >nan</td>\n",
       "      <td id=\"T_c3ece_row1_col6\" class=\"data row1 col6\" >nan</td>\n",
       "      <td id=\"T_c3ece_row1_col7\" class=\"data row1 col7\" >nan</td>\n",
       "      <td id=\"T_c3ece_row1_col8\" class=\"data row1 col8\" >nan</td>\n",
       "      <td id=\"T_c3ece_row1_col9\" class=\"data row1 col9\" >nan</td>\n",
       "      <td id=\"T_c3ece_row1_col10\" class=\"data row1 col10\" >nan</td>\n",
       "    </tr>\n",
       "    <tr>\n",
       "      <th id=\"T_c3ece_level0_row2\" class=\"row_heading level0 row2\" >Bilirubin</th>\n",
       "      <td id=\"T_c3ece_row2_col0\" class=\"data row2 col0\" >-0.34</td>\n",
       "      <td id=\"T_c3ece_row2_col1\" class=\"data row2 col1\" >0.09</td>\n",
       "      <td id=\"T_c3ece_row2_col2\" class=\"data row2 col2\" >nan</td>\n",
       "      <td id=\"T_c3ece_row2_col3\" class=\"data row2 col3\" >nan</td>\n",
       "      <td id=\"T_c3ece_row2_col4\" class=\"data row2 col4\" >nan</td>\n",
       "      <td id=\"T_c3ece_row2_col5\" class=\"data row2 col5\" >nan</td>\n",
       "      <td id=\"T_c3ece_row2_col6\" class=\"data row2 col6\" >nan</td>\n",
       "      <td id=\"T_c3ece_row2_col7\" class=\"data row2 col7\" >nan</td>\n",
       "      <td id=\"T_c3ece_row2_col8\" class=\"data row2 col8\" >nan</td>\n",
       "      <td id=\"T_c3ece_row2_col9\" class=\"data row2 col9\" >nan</td>\n",
       "      <td id=\"T_c3ece_row2_col10\" class=\"data row2 col10\" >nan</td>\n",
       "    </tr>\n",
       "    <tr>\n",
       "      <th id=\"T_c3ece_level0_row3\" class=\"row_heading level0 row3\" >Cholesterol</th>\n",
       "      <td id=\"T_c3ece_row3_col0\" class=\"data row3 col0\" >-0.14</td>\n",
       "      <td id=\"T_c3ece_row3_col1\" class=\"data row3 col1\" >-0.06</td>\n",
       "      <td id=\"T_c3ece_row3_col2\" class=\"data row3 col2\" >0.31</td>\n",
       "      <td id=\"T_c3ece_row3_col3\" class=\"data row3 col3\" >nan</td>\n",
       "      <td id=\"T_c3ece_row3_col4\" class=\"data row3 col4\" >nan</td>\n",
       "      <td id=\"T_c3ece_row3_col5\" class=\"data row3 col5\" >nan</td>\n",
       "      <td id=\"T_c3ece_row3_col6\" class=\"data row3 col6\" >nan</td>\n",
       "      <td id=\"T_c3ece_row3_col7\" class=\"data row3 col7\" >nan</td>\n",
       "      <td id=\"T_c3ece_row3_col8\" class=\"data row3 col8\" >nan</td>\n",
       "      <td id=\"T_c3ece_row3_col9\" class=\"data row3 col9\" >nan</td>\n",
       "      <td id=\"T_c3ece_row3_col10\" class=\"data row3 col10\" >nan</td>\n",
       "    </tr>\n",
       "    <tr>\n",
       "      <th id=\"T_c3ece_level0_row4\" class=\"row_heading level0 row4\" >Albumin</th>\n",
       "      <td id=\"T_c3ece_row4_col0\" class=\"data row4 col0\" >0.26</td>\n",
       "      <td id=\"T_c3ece_row4_col1\" class=\"data row4 col1\" >-0.11</td>\n",
       "      <td id=\"T_c3ece_row4_col2\" class=\"data row4 col2\" >-0.30</td>\n",
       "      <td id=\"T_c3ece_row4_col3\" class=\"data row4 col3\" >-0.09</td>\n",
       "      <td id=\"T_c3ece_row4_col4\" class=\"data row4 col4\" >nan</td>\n",
       "      <td id=\"T_c3ece_row4_col5\" class=\"data row4 col5\" >nan</td>\n",
       "      <td id=\"T_c3ece_row4_col6\" class=\"data row4 col6\" >nan</td>\n",
       "      <td id=\"T_c3ece_row4_col7\" class=\"data row4 col7\" >nan</td>\n",
       "      <td id=\"T_c3ece_row4_col8\" class=\"data row4 col8\" >nan</td>\n",
       "      <td id=\"T_c3ece_row4_col9\" class=\"data row4 col9\" >nan</td>\n",
       "      <td id=\"T_c3ece_row4_col10\" class=\"data row4 col10\" >nan</td>\n",
       "    </tr>\n",
       "    <tr>\n",
       "      <th id=\"T_c3ece_level0_row5\" class=\"row_heading level0 row5\" >Copper</th>\n",
       "      <td id=\"T_c3ece_row5_col0\" class=\"data row5 col0\" >-0.28</td>\n",
       "      <td id=\"T_c3ece_row5_col1\" class=\"data row5 col1\" >0.09</td>\n",
       "      <td id=\"T_c3ece_row5_col2\" class=\"data row5 col2\" >0.44</td>\n",
       "      <td id=\"T_c3ece_row5_col3\" class=\"data row5 col3\" >0.17</td>\n",
       "      <td id=\"T_c3ece_row5_col4\" class=\"data row5 col4\" >-0.23</td>\n",
       "      <td id=\"T_c3ece_row5_col5\" class=\"data row5 col5\" >nan</td>\n",
       "      <td id=\"T_c3ece_row5_col6\" class=\"data row5 col6\" >nan</td>\n",
       "      <td id=\"T_c3ece_row5_col7\" class=\"data row5 col7\" >nan</td>\n",
       "      <td id=\"T_c3ece_row5_col8\" class=\"data row5 col8\" >nan</td>\n",
       "      <td id=\"T_c3ece_row5_col9\" class=\"data row5 col9\" >nan</td>\n",
       "      <td id=\"T_c3ece_row5_col10\" class=\"data row5 col10\" >nan</td>\n",
       "    </tr>\n",
       "    <tr>\n",
       "      <th id=\"T_c3ece_level0_row6\" class=\"row_heading level0 row6\" >Alk_Phos</th>\n",
       "      <td id=\"T_c3ece_row6_col0\" class=\"data row6 col0\" >-0.02</td>\n",
       "      <td id=\"T_c3ece_row6_col1\" class=\"data row6 col1\" >0.02</td>\n",
       "      <td id=\"T_c3ece_row6_col2\" class=\"data row6 col2\" >0.13</td>\n",
       "      <td id=\"T_c3ece_row6_col3\" class=\"data row6 col3\" >0.13</td>\n",
       "      <td id=\"T_c3ece_row6_col4\" class=\"data row6 col4\" >-0.09</td>\n",
       "      <td id=\"T_c3ece_row6_col5\" class=\"data row6 col5\" >0.13</td>\n",
       "      <td id=\"T_c3ece_row6_col6\" class=\"data row6 col6\" >nan</td>\n",
       "      <td id=\"T_c3ece_row6_col7\" class=\"data row6 col7\" >nan</td>\n",
       "      <td id=\"T_c3ece_row6_col8\" class=\"data row6 col8\" >nan</td>\n",
       "      <td id=\"T_c3ece_row6_col9\" class=\"data row6 col9\" >nan</td>\n",
       "      <td id=\"T_c3ece_row6_col10\" class=\"data row6 col10\" >nan</td>\n",
       "    </tr>\n",
       "    <tr>\n",
       "      <th id=\"T_c3ece_level0_row7\" class=\"row_heading level0 row7\" >SGOT</th>\n",
       "      <td id=\"T_c3ece_row7_col0\" class=\"data row7 col0\" >-0.23</td>\n",
       "      <td id=\"T_c3ece_row7_col1\" class=\"data row7 col1\" >-0.02</td>\n",
       "      <td id=\"T_c3ece_row7_col2\" class=\"data row7 col2\" >0.36</td>\n",
       "      <td id=\"T_c3ece_row7_col3\" class=\"data row7 col3\" >0.34</td>\n",
       "      <td id=\"T_c3ece_row7_col4\" class=\"data row7 col4\" >-0.21</td>\n",
       "      <td id=\"T_c3ece_row7_col5\" class=\"data row7 col5\" >0.33</td>\n",
       "      <td id=\"T_c3ece_row7_col6\" class=\"data row7 col6\" >0.13</td>\n",
       "      <td id=\"T_c3ece_row7_col7\" class=\"data row7 col7\" >nan</td>\n",
       "      <td id=\"T_c3ece_row7_col8\" class=\"data row7 col8\" >nan</td>\n",
       "      <td id=\"T_c3ece_row7_col9\" class=\"data row7 col9\" >nan</td>\n",
       "      <td id=\"T_c3ece_row7_col10\" class=\"data row7 col10\" >nan</td>\n",
       "    </tr>\n",
       "    <tr>\n",
       "      <th id=\"T_c3ece_level0_row8\" class=\"row_heading level0 row8\" >Tryglicerides</th>\n",
       "      <td id=\"T_c3ece_row8_col0\" class=\"data row8 col0\" >-0.18</td>\n",
       "      <td id=\"T_c3ece_row8_col1\" class=\"data row8 col1\" >0.02</td>\n",
       "      <td id=\"T_c3ece_row8_col2\" class=\"data row8 col2\" >0.32</td>\n",
       "      <td id=\"T_c3ece_row8_col3\" class=\"data row8 col3\" >0.28</td>\n",
       "      <td id=\"T_c3ece_row8_col4\" class=\"data row8 col4\" >-0.11</td>\n",
       "      <td id=\"T_c3ece_row8_col5\" class=\"data row8 col5\" >0.28</td>\n",
       "      <td id=\"T_c3ece_row8_col6\" class=\"data row8 col6\" >0.10</td>\n",
       "      <td id=\"T_c3ece_row8_col7\" class=\"data row8 col7\" >0.15</td>\n",
       "      <td id=\"T_c3ece_row8_col8\" class=\"data row8 col8\" >nan</td>\n",
       "      <td id=\"T_c3ece_row8_col9\" class=\"data row8 col9\" >nan</td>\n",
       "      <td id=\"T_c3ece_row8_col10\" class=\"data row8 col10\" >nan</td>\n",
       "    </tr>\n",
       "    <tr>\n",
       "      <th id=\"T_c3ece_level0_row9\" class=\"row_heading level0 row9\" >Platelets</th>\n",
       "      <td id=\"T_c3ece_row9_col0\" class=\"data row9 col0\" >0.14</td>\n",
       "      <td id=\"T_c3ece_row9_col1\" class=\"data row9 col1\" >-0.10</td>\n",
       "      <td id=\"T_c3ece_row9_col2\" class=\"data row9 col2\" >-0.08</td>\n",
       "      <td id=\"T_c3ece_row9_col3\" class=\"data row9 col3\" >0.09</td>\n",
       "      <td id=\"T_c3ece_row9_col4\" class=\"data row9 col4\" >0.14</td>\n",
       "      <td id=\"T_c3ece_row9_col5\" class=\"data row9 col5\" >-0.10</td>\n",
       "      <td id=\"T_c3ece_row9_col6\" class=\"data row9 col6\" >0.04</td>\n",
       "      <td id=\"T_c3ece_row9_col7\" class=\"data row9 col7\" >-0.04</td>\n",
       "      <td id=\"T_c3ece_row9_col8\" class=\"data row9 col8\" >0.02</td>\n",
       "      <td id=\"T_c3ece_row9_col9\" class=\"data row9 col9\" >nan</td>\n",
       "      <td id=\"T_c3ece_row9_col10\" class=\"data row9 col10\" >nan</td>\n",
       "    </tr>\n",
       "    <tr>\n",
       "      <th id=\"T_c3ece_level0_row10\" class=\"row_heading level0 row10\" >Prothrombin</th>\n",
       "      <td id=\"T_c3ece_row10_col0\" class=\"data row10 col0\" >-0.15</td>\n",
       "      <td id=\"T_c3ece_row10_col1\" class=\"data row10 col1\" >0.15</td>\n",
       "      <td id=\"T_c3ece_row10_col2\" class=\"data row10 col2\" >0.31</td>\n",
       "      <td id=\"T_c3ece_row10_col3\" class=\"data row10 col3\" >0.03</td>\n",
       "      <td id=\"T_c3ece_row10_col4\" class=\"data row10 col4\" >-0.21</td>\n",
       "      <td id=\"T_c3ece_row10_col5\" class=\"data row10 col5\" >0.25</td>\n",
       "      <td id=\"T_c3ece_row10_col6\" class=\"data row10 col6\" >0.09</td>\n",
       "      <td id=\"T_c3ece_row10_col7\" class=\"data row10 col7\" >0.14</td>\n",
       "      <td id=\"T_c3ece_row10_col8\" class=\"data row10 col8\" >0.07</td>\n",
       "      <td id=\"T_c3ece_row10_col9\" class=\"data row10 col9\" >-0.17</td>\n",
       "      <td id=\"T_c3ece_row10_col10\" class=\"data row10 col10\" >nan</td>\n",
       "    </tr>\n",
       "  </tbody>\n",
       "</table>\n"
      ],
      "text/plain": [
       "<pandas.io.formats.style.Styler at 0x1e223fa8850>"
      ]
     },
     "execution_count": 10,
     "metadata": {},
     "output_type": "execute_result"
    }
   ],
   "source": [
    "numeric_feats = ['N_Days', 'Age', 'Bilirubin', 'Cholesterol', 'Albumin', 'Copper', 'Alk_Phos', 'SGOT', 'Tryglicerides', 'Platelets', 'Prothrombin']\n",
    "corr = data[numeric_feats].corr()\n",
    "\n",
    "mask = np.zeros_like(corr, dtype=bool)\n",
    "mask[np.triu_indices_from(mask)] = True\n",
    "corr[mask] = np.nan\n",
    "\n",
    "(corr\n",
    "    .style\n",
    "    .background_gradient(cmap='coolwarm', axis=None, vmin=-1, vmax=1)\n",
    "    .highlight_null(color='f1f1f1')\n",
    "    .format(precision=2)\n",
    ")"
   ]
  },
  {
   "cell_type": "markdown",
   "metadata": {},
   "source": [
    "- No strong linear correlation, but Bilirubin has relatively the strongest correlation w/ other variables"
   ]
  },
  {
   "cell_type": "markdown",
   "metadata": {},
   "source": [
    "Distribution of Status:"
   ]
  },
  {
   "cell_type": "code",
   "execution_count": 11,
   "metadata": {},
   "outputs": [
    {
     "data": {
      "text/html": [
       "<div>\n",
       "<style scoped>\n",
       "    .dataframe tbody tr th:only-of-type {\n",
       "        vertical-align: middle;\n",
       "    }\n",
       "\n",
       "    .dataframe tbody tr th {\n",
       "        vertical-align: top;\n",
       "    }\n",
       "\n",
       "    .dataframe thead th {\n",
       "        text-align: right;\n",
       "    }\n",
       "</style>\n",
       "<table border=\"1\" class=\"dataframe\">\n",
       "  <thead>\n",
       "    <tr style=\"text-align: right;\">\n",
       "      <th></th>\n",
       "      <th>count</th>\n",
       "    </tr>\n",
       "    <tr>\n",
       "      <th>Status</th>\n",
       "      <th></th>\n",
       "    </tr>\n",
       "  </thead>\n",
       "  <tbody>\n",
       "    <tr>\n",
       "      <th>C</th>\n",
       "      <td>4965</td>\n",
       "    </tr>\n",
       "    <tr>\n",
       "      <th>D</th>\n",
       "      <td>2665</td>\n",
       "    </tr>\n",
       "    <tr>\n",
       "      <th>CL</th>\n",
       "      <td>275</td>\n",
       "    </tr>\n",
       "  </tbody>\n",
       "</table>\n",
       "</div>"
      ],
      "text/plain": [
       "        count\n",
       "Status       \n",
       "C        4965\n",
       "D        2665\n",
       "CL        275"
      ]
     },
     "execution_count": 11,
     "metadata": {},
     "output_type": "execute_result"
    },
    {
     "data": {
      "image/png": "[encoded data removed]",
      "text/plain": [
       "<Figure size 640x480 with 1 Axes>"
      ]
     },
     "metadata": {},
     "output_type": "display_data"
    }
   ],
   "source": [
    "status = data[['Status']].value_counts().reset_index()\n",
    "\n",
    "sns.barplot(status, \n",
    "            x='Status',\n",
    "            y='count');\n",
    "status.set_index('Status')"
   ]
  },
  {
   "cell_type": "markdown",
   "metadata": {},
   "source": [
    "- Class imbalance"
   ]
  },
  {
   "cell_type": "markdown",
   "metadata": {},
   "source": [
    "Histograms for all quantitative variables (includes Stage):"
   ]
  },
  {
   "cell_type": "code",
   "execution_count": 12,
   "metadata": {},
   "outputs": [
    {
     "data": {
      "image/png": "[encoded data removed]",
      "text/plain": [
       "<Figure size 1600x2000 with 12 Axes>"
      ]
     },
     "metadata": {},
     "output_type": "display_data"
    }
   ],
   "source": [
    "ax = data.hist(figsize=(16, 20), \n",
    "               bins=40, \n",
    "               xlabelsize=6, \n",
    "               ylabelsize=6);\n",
    "\n",
    "for row in ax:\n",
    "    for subplot in row:\n",
    "        subplot.grid(False)"
   ]
  },
  {
   "cell_type": "markdown",
   "metadata": {},
   "source": [
    "## Predictive Analysis:"
   ]
  },
  {
   "cell_type": "code",
   "execution_count": 13,
   "metadata": {},
   "outputs": [],
   "source": [
    "from sklearn.model_selection import train_test_split\n",
    "from sklearn.ensemble import RandomForestClassifier\n",
    "from sklearn.pipeline import Pipeline\n",
    "from sklearn.compose import ColumnTransformer\n",
    "from sklearn.preprocessing import OneHotEncoder\n",
    "from sklearn.preprocessing import StandardScaler\n",
    "from sklearn.preprocessing import FunctionTransformer\n",
    "from sklearn.metrics import classification_report\n",
    "from sklearn.metrics import log_loss"
   ]
  },
  {
   "cell_type": "markdown",
   "metadata": {},
   "source": [
    "Splitting the train set into training, validation, and test sets:"
   ]
  },
  {
   "cell_type": "code",
   "execution_count": 14,
   "metadata": {},
   "outputs": [],
   "source": [
    "data_X = train.drop(columns={'Status'})\n",
    "data_Y = train.Status\n",
    "\n",
    "X, test_X, Y, test_Y = train_test_split(\n",
    "    data_X, data_Y,\n",
    "    test_size=.2, random_state=42069\n",
    ")\n",
    "\n",
    "train_X, val_X, train_Y, val_Y = train_test_split(\n",
    "    X, Y,\n",
    "    test_size=.25, random_state=42069\n",
    ")"
   ]
  },
  {
   "cell_type": "markdown",
   "metadata": {},
   "source": [
    "### Baseline Model:"
   ]
  },
  {
   "cell_type": "code",
   "execution_count": 15,
   "metadata": {},
   "outputs": [],
   "source": [
    "categorical = ['Drug', 'Sex', 'Ascites', 'Hepatomegaly', 'Spiders', 'Edema', 'Stage']\n",
    "std = ['Age', 'Albumin', 'Platelets']\n",
    "log_std = ['N_Days', 'Bilirubin', 'SGOT', 'Tryglicerides', 'Prothrombin', 'Cholesterol', 'Copper', 'Alk_Phos']\n",
    "\n",
    "categorical_transformer = Pipeline(\n",
    "    steps=\n",
    "    [\n",
    "        ('one hot encode', OneHotEncoder())\n",
    "    ]\n",
    ")\n",
    "\n",
    "std_transformer = Pipeline(\n",
    "    steps=\n",
    "    [\n",
    "        ('standardization', StandardScaler())\n",
    "    ]\n",
    ")\n",
    "\n",
    "\n",
    "log_std_transformer = Pipeline(\n",
    "    steps=\n",
    "    [\n",
    "        ('log', FunctionTransformer(np.log)),\n",
    "        ('standardization', StandardScaler())\n",
    "    ]\n",
    ")\n",
    "\n",
    "\n",
    "preproc_base = ColumnTransformer(\n",
    "    transformers =\n",
    "    [\n",
    "        ('one hot encode', categorical_transformer, categorical),\n",
    "        ('standardize', std_transformer, std),\n",
    "        ('log std', log_std_transformer, log_std)\n",
    "    ],\n",
    "    remainder='drop'\n",
    ")\n",
    "\n",
    "base_pl = Pipeline(\n",
    "    [\n",
    "        ('preprocessor', preproc_base),\n",
    "        ('rfc', RandomForestClassifier(\n",
    "                random_state=69,\n",
    "                class_weight='balanced',\n",
    "                criterion='entropy',\n",
    "                max_features='sqrt'\n",
    "            )\n",
    "        )\n",
    "    ]\n",
    ")"
   ]
  },
  {
   "cell_type": "markdown",
   "metadata": {},
   "source": [
    "Fitting baseline model onto training set:"
   ]
  },
  {
   "cell_type": "code",
   "execution_count": 16,
   "metadata": {},
   "outputs": [
    {
     "data": {
      "text/html": [
       "<style>#sk-container-id-1 {color: black;}#sk-container-id-1 pre{padding: 0;}#sk-container-id-1 div.sk-toggleable {background-color: white;}#sk-container-id-1 label.sk-toggleable__label {cursor: pointer;display: block;width: 100%;margin-bottom: 0;padding: 0.3em;box-sizing: border-box;text-align: center;}#sk-container-id-1 label.sk-toggleable__label-arrow:before {content: \"▸\";float: left;margin-right: 0.25em;color: #696969;}#sk-container-id-1 label.sk-toggleable__label-arrow:hover:before {color: black;}#sk-container-id-1 div.sk-estimator:hover label.sk-toggleable__label-arrow:before {color: black;}#sk-container-id-1 div.sk-toggleable__content {max-height: 0;max-width: 0;overflow: hidden;text-align: left;background-color: #f0f8ff;}#sk-container-id-1 div.sk-toggleable__content pre {margin: 0.2em;color: black;border-radius: 0.25em;background-color: #f0f8ff;}#sk-container-id-1 input.sk-toggleable__control:checked~div.sk-toggleable__content {max-height: 200px;max-width: 100%;overflow: auto;}#sk-container-id-1 input.sk-toggleable__control:checked~label.sk-toggleable__label-arrow:before {content: \"▾\";}#sk-container-id-1 div.sk-estimator input.sk-toggleable__control:checked~label.sk-toggleable__label {background-color: #d4ebff;}#sk-container-id-1 div.sk-label input.sk-toggleable__control:checked~label.sk-toggleable__label {background-color: #d4ebff;}#sk-container-id-1 input.sk-hidden--visually {border: 0;clip: rect(1px 1px 1px 1px);clip: rect(1px, 1px, 1px, 1px);height: 1px;margin: -1px;overflow: hidden;padding: 0;position: absolute;width: 1px;}#sk-container-id-1 div.sk-estimator {font-family: monospace;background-color: #f0f8ff;border: 1px dotted black;border-radius: 0.25em;box-sizing: border-box;margin-bottom: 0.5em;}#sk-container-id-1 div.sk-estimator:hover {background-color: #d4ebff;}#sk-container-id-1 div.sk-parallel-item::after {content: \"\";width: 100%;border-bottom: 1px solid gray;flex-grow: 1;}#sk-container-id-1 div.sk-label:hover label.sk-toggleable__label {background-color: #d4ebff;}#sk-container-id-1 div.sk-serial::before {content: \"\";position: absolute;border-left: 1px solid gray;box-sizing: border-box;top: 0;bottom: 0;left: 50%;z-index: 0;}#sk-container-id-1 div.sk-serial {display: flex;flex-direction: column;align-items: center;background-color: white;padding-right: 0.2em;padding-left: 0.2em;position: relative;}#sk-container-id-1 div.sk-item {position: relative;z-index: 1;}#sk-container-id-1 div.sk-parallel {display: flex;align-items: stretch;justify-content: center;background-color: white;position: relative;}#sk-container-id-1 div.sk-item::before, #sk-container-id-1 div.sk-parallel-item::before {content: \"\";position: absolute;border-left: 1px solid gray;box-sizing: border-box;top: 0;bottom: 0;left: 50%;z-index: -1;}#sk-container-id-1 div.sk-parallel-item {display: flex;flex-direction: column;z-index: 1;position: relative;background-color: white;}#sk-container-id-1 div.sk-parallel-item:first-child::after {align-self: flex-end;width: 50%;}#sk-container-id-1 div.sk-parallel-item:last-child::after {align-self: flex-start;width: 50%;}#sk-container-id-1 div.sk-parallel-item:only-child::after {width: 0;}#sk-container-id-1 div.sk-dashed-wrapped {border: 1px dashed gray;margin: 0 0.4em 0.5em 0.4em;box-sizing: border-box;padding-bottom: 0.4em;background-color: white;}#sk-container-id-1 div.sk-label label {font-family: monospace;font-weight: bold;display: inline-block;line-height: 1.2em;}#sk-container-id-1 div.sk-label-container {text-align: center;}#sk-container-id-1 div.sk-container {/* jupyter's `normalize.less` sets `[hidden] { display: none; }` but bootstrap.min.css set `[hidden] { display: none !important; }` so we also need the `!important` here to be able to override the default hidden behavior on the sphinx rendered scikit-learn.org. See: https://github.com/scikit-learn/scikit-learn/issues/21755 */display: inline-block !important;position: relative;}#sk-container-id-1 div.sk-text-repr-fallback {display: none;}</style><div id=\"sk-container-id-1\" class=\"sk-top-container\"><div class=\"sk-text-repr-fallback\"><pre>Pipeline(steps=[(&#x27;preprocessor&#x27;,\n",
       "                 ColumnTransformer(transformers=[(&#x27;one hot encode&#x27;,\n",
       "                                                  Pipeline(steps=[(&#x27;one hot &#x27;\n",
       "                                                                   &#x27;encode&#x27;,\n",
       "                                                                   OneHotEncoder())]),\n",
       "                                                  [&#x27;Drug&#x27;, &#x27;Sex&#x27;, &#x27;Ascites&#x27;,\n",
       "                                                   &#x27;Hepatomegaly&#x27;, &#x27;Spiders&#x27;,\n",
       "                                                   &#x27;Edema&#x27;, &#x27;Stage&#x27;]),\n",
       "                                                 (&#x27;standardize&#x27;,\n",
       "                                                  Pipeline(steps=[(&#x27;standardization&#x27;,\n",
       "                                                                   StandardScaler())]),\n",
       "                                                  [&#x27;Age&#x27;, &#x27;Albumin&#x27;,\n",
       "                                                   &#x27;Platelets&#x27;]),\n",
       "                                                 (&#x27;log std&#x27;,\n",
       "                                                  Pipeline(steps=[(&#x27;log&#x27;,\n",
       "                                                                   FunctionTransformer(func=&lt;ufunc &#x27;log&#x27;&gt;)),\n",
       "                                                                  (&#x27;standardization&#x27;,\n",
       "                                                                   StandardScaler())]),\n",
       "                                                  [&#x27;N_Days&#x27;, &#x27;Bilirubin&#x27;,\n",
       "                                                   &#x27;SGOT&#x27;, &#x27;Tryglicerides&#x27;,\n",
       "                                                   &#x27;Prothrombin&#x27;, &#x27;Cholesterol&#x27;,\n",
       "                                                   &#x27;Copper&#x27;, &#x27;Alk_Phos&#x27;])])),\n",
       "                (&#x27;rfc&#x27;,\n",
       "                 RandomForestClassifier(class_weight=&#x27;balanced&#x27;,\n",
       "                                        criterion=&#x27;entropy&#x27;,\n",
       "                                        random_state=69))])</pre><b>In a Jupyter environment, please rerun this cell to show the HTML representation or trust the notebook. <br />On GitHub, the HTML representation is unable to render, please try loading this page with nbviewer.org.</b></div><div class=\"sk-container\" hidden><div class=\"sk-item sk-dashed-wrapped\"><div class=\"sk-label-container\"><div class=\"sk-label sk-toggleable\"><input class=\"sk-toggleable__control sk-hidden--visually\" id=\"sk-estimator-id-1\" type=\"checkbox\" ><label for=\"sk-estimator-id-1\" class=\"sk-toggleable__label sk-toggleable__label-arrow\">Pipeline</label><div class=\"sk-toggleable__content\"><pre>Pipeline(steps=[(&#x27;preprocessor&#x27;,\n",
       "                 ColumnTransformer(transformers=[(&#x27;one hot encode&#x27;,\n",
       "                                                  Pipeline(steps=[(&#x27;one hot &#x27;\n",
       "                                                                   &#x27;encode&#x27;,\n",
       "                                                                   OneHotEncoder())]),\n",
       "                                                  [&#x27;Drug&#x27;, &#x27;Sex&#x27;, &#x27;Ascites&#x27;,\n",
       "                                                   &#x27;Hepatomegaly&#x27;, &#x27;Spiders&#x27;,\n",
       "                                                   &#x27;Edema&#x27;, &#x27;Stage&#x27;]),\n",
       "                                                 (&#x27;standardize&#x27;,\n",
       "                                                  Pipeline(steps=[(&#x27;standardization&#x27;,\n",
       "                                                                   StandardScaler())]),\n",
       "                                                  [&#x27;Age&#x27;, &#x27;Albumin&#x27;,\n",
       "                                                   &#x27;Platelets&#x27;]),\n",
       "                                                 (&#x27;log std&#x27;,\n",
       "                                                  Pipeline(steps=[(&#x27;log&#x27;,\n",
       "                                                                   FunctionTransformer(func=&lt;ufunc &#x27;log&#x27;&gt;)),\n",
       "                                                                  (&#x27;standardization&#x27;,\n",
       "                                                                   StandardScaler())]),\n",
       "                                                  [&#x27;N_Days&#x27;, &#x27;Bilirubin&#x27;,\n",
       "                                                   &#x27;SGOT&#x27;, &#x27;Tryglicerides&#x27;,\n",
       "                                                   &#x27;Prothrombin&#x27;, &#x27;Cholesterol&#x27;,\n",
       "                                                   &#x27;Copper&#x27;, &#x27;Alk_Phos&#x27;])])),\n",
       "                (&#x27;rfc&#x27;,\n",
       "                 RandomForestClassifier(class_weight=&#x27;balanced&#x27;,\n",
       "                                        criterion=&#x27;entropy&#x27;,\n",
       "                                        random_state=69))])</pre></div></div></div><div class=\"sk-serial\"><div class=\"sk-item sk-dashed-wrapped\"><div class=\"sk-label-container\"><div class=\"sk-label sk-toggleable\"><input class=\"sk-toggleable__control sk-hidden--visually\" id=\"sk-estimator-id-2\" type=\"checkbox\" ><label for=\"sk-estimator-id-2\" class=\"sk-toggleable__label sk-toggleable__label-arrow\">preprocessor: ColumnTransformer</label><div class=\"sk-toggleable__content\"><pre>ColumnTransformer(transformers=[(&#x27;one hot encode&#x27;,\n",
       "                                 Pipeline(steps=[(&#x27;one hot encode&#x27;,\n",
       "                                                  OneHotEncoder())]),\n",
       "                                 [&#x27;Drug&#x27;, &#x27;Sex&#x27;, &#x27;Ascites&#x27;, &#x27;Hepatomegaly&#x27;,\n",
       "                                  &#x27;Spiders&#x27;, &#x27;Edema&#x27;, &#x27;Stage&#x27;]),\n",
       "                                (&#x27;standardize&#x27;,\n",
       "                                 Pipeline(steps=[(&#x27;standardization&#x27;,\n",
       "                                                  StandardScaler())]),\n",
       "                                 [&#x27;Age&#x27;, &#x27;Albumin&#x27;, &#x27;Platelets&#x27;]),\n",
       "                                (&#x27;log std&#x27;,\n",
       "                                 Pipeline(steps=[(&#x27;log&#x27;,\n",
       "                                                  FunctionTransformer(func=&lt;ufunc &#x27;log&#x27;&gt;)),\n",
       "                                                 (&#x27;standardization&#x27;,\n",
       "                                                  StandardScaler())]),\n",
       "                                 [&#x27;N_Days&#x27;, &#x27;Bilirubin&#x27;, &#x27;SGOT&#x27;,\n",
       "                                  &#x27;Tryglicerides&#x27;, &#x27;Prothrombin&#x27;, &#x27;Cholesterol&#x27;,\n",
       "                                  &#x27;Copper&#x27;, &#x27;Alk_Phos&#x27;])])</pre></div></div></div><div class=\"sk-parallel\"><div class=\"sk-parallel-item\"><div class=\"sk-item\"><div class=\"sk-label-container\"><div class=\"sk-label sk-toggleable\"><input class=\"sk-toggleable__control sk-hidden--visually\" id=\"sk-estimator-id-3\" type=\"checkbox\" ><label for=\"sk-estimator-id-3\" class=\"sk-toggleable__label sk-toggleable__label-arrow\">one hot encode</label><div class=\"sk-toggleable__content\"><pre>[&#x27;Drug&#x27;, &#x27;Sex&#x27;, &#x27;Ascites&#x27;, &#x27;Hepatomegaly&#x27;, &#x27;Spiders&#x27;, &#x27;Edema&#x27;, &#x27;Stage&#x27;]</pre></div></div></div><div class=\"sk-serial\"><div class=\"sk-item\"><div class=\"sk-serial\"><div class=\"sk-item\"><div class=\"sk-estimator sk-toggleable\"><input class=\"sk-toggleable__control sk-hidden--visually\" id=\"sk-estimator-id-4\" type=\"checkbox\" ><label for=\"sk-estimator-id-4\" class=\"sk-toggleable__label sk-toggleable__label-arrow\">OneHotEncoder</label><div class=\"sk-toggleable__content\"><pre>OneHotEncoder()</pre></div></div></div></div></div></div></div></div><div class=\"sk-parallel-item\"><div class=\"sk-item\"><div class=\"sk-label-container\"><div class=\"sk-label sk-toggleable\"><input class=\"sk-toggleable__control sk-hidden--visually\" id=\"sk-estimator-id-5\" type=\"checkbox\" ><label for=\"sk-estimator-id-5\" class=\"sk-toggleable__label sk-toggleable__label-arrow\">standardize</label><div class=\"sk-toggleable__content\"><pre>[&#x27;Age&#x27;, &#x27;Albumin&#x27;, &#x27;Platelets&#x27;]</pre></div></div></div><div class=\"sk-serial\"><div class=\"sk-item\"><div class=\"sk-serial\"><div class=\"sk-item\"><div class=\"sk-estimator sk-toggleable\"><input class=\"sk-toggleable__control sk-hidden--visually\" id=\"sk-estimator-id-6\" type=\"checkbox\" ><label for=\"sk-estimator-id-6\" class=\"sk-toggleable__label sk-toggleable__label-arrow\">StandardScaler</label><div class=\"sk-toggleable__content\"><pre>StandardScaler()</pre></div></div></div></div></div></div></div></div><div class=\"sk-parallel-item\"><div class=\"sk-item\"><div class=\"sk-label-container\"><div class=\"sk-label sk-toggleable\"><input class=\"sk-toggleable__control sk-hidden--visually\" id=\"sk-estimator-id-7\" type=\"checkbox\" ><label for=\"sk-estimator-id-7\" class=\"sk-toggleable__label sk-toggleable__label-arrow\">log std</label><div class=\"sk-toggleable__content\"><pre>[&#x27;N_Days&#x27;, &#x27;Bilirubin&#x27;, &#x27;SGOT&#x27;, &#x27;Tryglicerides&#x27;, &#x27;Prothrombin&#x27;, &#x27;Cholesterol&#x27;, &#x27;Copper&#x27;, &#x27;Alk_Phos&#x27;]</pre></div></div></div><div class=\"sk-serial\"><div class=\"sk-item\"><div class=\"sk-serial\"><div class=\"sk-item\"><div class=\"sk-estimator sk-toggleable\"><input class=\"sk-toggleable__control sk-hidden--visually\" id=\"sk-estimator-id-8\" type=\"checkbox\" ><label for=\"sk-estimator-id-8\" class=\"sk-toggleable__label sk-toggleable__label-arrow\">FunctionTransformer</label><div class=\"sk-toggleable__content\"><pre>FunctionTransformer(func=&lt;ufunc &#x27;log&#x27;&gt;)</pre></div></div></div><div class=\"sk-item\"><div class=\"sk-estimator sk-toggleable\"><input class=\"sk-toggleable__control sk-hidden--visually\" id=\"sk-estimator-id-9\" type=\"checkbox\" ><label for=\"sk-estimator-id-9\" class=\"sk-toggleable__label sk-toggleable__label-arrow\">StandardScaler</label><div class=\"sk-toggleable__content\"><pre>StandardScaler()</pre></div></div></div></div></div></div></div></div></div></div><div class=\"sk-item\"><div class=\"sk-estimator sk-toggleable\"><input class=\"sk-toggleable__control sk-hidden--visually\" id=\"sk-estimator-id-10\" type=\"checkbox\" ><label for=\"sk-estimator-id-10\" class=\"sk-toggleable__label sk-toggleable__label-arrow\">RandomForestClassifier</label><div class=\"sk-toggleable__content\"><pre>RandomForestClassifier(class_weight=&#x27;balanced&#x27;, criterion=&#x27;entropy&#x27;,\n",
       "                       random_state=69)</pre></div></div></div></div></div></div></div>"
      ],
      "text/plain": [
       "Pipeline(steps=[('preprocessor',\n",
       "                 ColumnTransformer(transformers=[('one hot encode',\n",
       "                                                  Pipeline(steps=[('one hot '\n",
       "                                                                   'encode',\n",
       "                                                                   OneHotEncoder())]),\n",
       "                                                  ['Drug', 'Sex', 'Ascites',\n",
       "                                                   'Hepatomegaly', 'Spiders',\n",
       "                                                   'Edema', 'Stage']),\n",
       "                                                 ('standardize',\n",
       "                                                  Pipeline(steps=[('standardization',\n",
       "                                                                   StandardScaler())]),\n",
       "                                                  ['Age', 'Albumin',\n",
       "                                                   'Platelets']),\n",
       "                                                 ('log std',\n",
       "                                                  Pipeline(steps=[('log',\n",
       "                                                                   FunctionTransformer(func=<ufunc 'log'>)),\n",
       "                                                                  ('standardization',\n",
       "                                                                   StandardScaler())]),\n",
       "                                                  ['N_Days', 'Bilirubin',\n",
       "                                                   'SGOT', 'Tryglicerides',\n",
       "                                                   'Prothrombin', 'Cholesterol',\n",
       "                                                   'Copper', 'Alk_Phos'])])),\n",
       "                ('rfc',\n",
       "                 RandomForestClassifier(class_weight='balanced',\n",
       "                                        criterion='entropy',\n",
       "                                        random_state=69))])"
      ]
     },
     "execution_count": 16,
     "metadata": {},
     "output_type": "execute_result"
    }
   ],
   "source": [
    "base_pl.fit(train_X, train_Y)"
   ]
  },
  {
   "cell_type": "code",
   "execution_count": 17,
   "metadata": {},
   "outputs": [],
   "source": [
    "from sklearn.model_selection import GridSearchCV\n",
    "hyperparams = {\n",
    "    'rfc__criterion'   : ['gini', 'entropy'],\n",
    "    'rfc__max_features': ['sqrt', 'log2', None],\n",
    "    'rfc__class_weight': ['balanced'],\n",
    "}\n",
    "\n",
    "# grid_search = GridSearchCV(base_pl, hyperparams, scoring='neg_log_loss')\n",
    "# grid_search.fit(train_X, train_Y)\n",
    "# print(grid_search.best_params_)\n",
    "\n",
    "# Result: {'rfc__class_weight': 'balanced', 'rfc__criterion': 'entropy', 'rfc__max_features': 'sqrt'}"
   ]
  },
  {
   "cell_type": "code",
   "execution_count": 18,
   "metadata": {},
   "outputs": [
    {
     "data": {
      "image/png": "[encoded data removed]",
      "text/plain": [
       "<Figure size 640x480 with 1 Axes>"
      ]
     },
     "metadata": {},
     "output_type": "display_data"
    }
   ],
   "source": [
    "feat_importances = base_pl.named_steps['rfc'].feature_importances_\n",
    "\n",
    "# Get the names of the features after preprocessing\n",
    "feature_names = preproc_base.transformers_[0][1]['one hot encode'].get_feature_names_out(categorical).tolist()\n",
    "feature_names = feature_names + std + log_std\n",
    "\n",
    "# Create a DataFrame to display the feature importances\n",
    "feature_importance_df = pd.DataFrame({\n",
    "    'Feature': feature_names,\n",
    "    'Importance': feat_importances\n",
    "})\n",
    "\n",
    "# Sort the DataFrame by importance in descending order\n",
    "feature_importance_df = feature_importance_df.sort_values(by='Importance', ascending=False)\n",
    "\n",
    "# Display the feature importances\n",
    "feat_fig = sns.barplot(data=feature_importance_df,\n",
    "                       x='Feature', \n",
    "                       y='Importance');\n",
    "feat_fig.set_xticklabels(labels=feature_importance_df.Feature, rotation=90);"
   ]
  },
  {
   "cell_type": "code",
   "execution_count": 19,
   "metadata": {},
   "outputs": [],
   "source": [
    "base_pl_predicted_train_Y = base_pl.predict(train_X)\n",
    "base_pl_predicted_val_Y   = base_pl.predict(val_X)\n",
    "base_pl_predicted_test_Y  = base_pl.predict(test_X)"
   ]
  },
  {
   "cell_type": "code",
   "execution_count": 20,
   "metadata": {},
   "outputs": [
    {
     "name": "stdout",
     "output_type": "stream",
     "text": [
      "              precision    recall  f1-score   support\n",
      "\n",
      "           C       1.00      1.00      1.00      2978\n",
      "          CL       1.00      1.00      1.00       170\n",
      "           D       1.00      1.00      1.00      1595\n",
      "\n",
      "    accuracy                           1.00      4743\n",
      "   macro avg       1.00      1.00      1.00      4743\n",
      "weighted avg       1.00      1.00      1.00      4743\n",
      "\n"
     ]
    }
   ],
   "source": [
    "print(classification_report(train_Y.values.flatten(), base_pl_predicted_train_Y))"
   ]
  },
  {
   "cell_type": "code",
   "execution_count": 21,
   "metadata": {},
   "outputs": [
    {
     "name": "stdout",
     "output_type": "stream",
     "text": [
      "              precision    recall  f1-score   support\n",
      "\n",
      "           C       0.83      0.94      0.88      1007\n",
      "          CL       0.86      0.16      0.27        38\n",
      "           D       0.83      0.68      0.75       536\n",
      "\n",
      "    accuracy                           0.83      1581\n",
      "   macro avg       0.84      0.59      0.63      1581\n",
      "weighted avg       0.83      0.83      0.82      1581\n",
      "\n"
     ]
    }
   ],
   "source": [
    "print(classification_report(val_Y.values.flatten(), base_pl_predicted_val_Y))"
   ]
  },
  {
   "cell_type": "code",
   "execution_count": 22,
   "metadata": {},
   "outputs": [
    {
     "name": "stdout",
     "output_type": "stream",
     "text": [
      "              precision    recall  f1-score   support\n",
      "\n",
      "           C       0.83      0.94      0.88       980\n",
      "          CL       0.70      0.10      0.18        67\n",
      "           D       0.82      0.72      0.76       534\n",
      "\n",
      "    accuracy                           0.83      1581\n",
      "   macro avg       0.78      0.59      0.61      1581\n",
      "weighted avg       0.82      0.83      0.81      1581\n",
      "\n"
     ]
    }
   ],
   "source": [
    "print(classification_report(test_Y.values.flatten(), base_pl_predicted_test_Y))"
   ]
  },
  {
   "cell_type": "code",
   "execution_count": 23,
   "metadata": {},
   "outputs": [
    {
     "data": {
      "text/plain": [
       "(0.1186466195852396, 0.4795777960370426, 0.566408379301709)"
      ]
     },
     "execution_count": 23,
     "metadata": {},
     "output_type": "execute_result"
    }
   ],
   "source": [
    "base_pl_predicted_train_Y = base_pl.predict_proba(train_X)\n",
    "base_pl_predicted_val_Y   = base_pl.predict_proba(val_X)\n",
    "base_pl_predicted_test_Y  = base_pl.predict_proba(test_X)\n",
    "\n",
    "(\n",
    "    log_loss(train_Y.values.flatten(), base_pl_predicted_train_Y), \n",
    "    log_loss(val_Y.values.flatten(), base_pl_predicted_val_Y),\n",
    "    log_loss(test_Y.values.flatten(), base_pl_predicted_test_Y)\n",
    ")"
   ]
  },
  {
   "cell_type": "markdown",
   "metadata": {},
   "source": [
    "Reflection of Baseline Model:\n",
    "- Used all variables\n",
    "- One hot encoded all categorical features\n",
    "- Standardized all the riughly normal distributed variables\n",
    "- Log transformed - then standardized - all right skewed variables\n",
    "\n",
    "Model obviously overfit training set. The log loss metric was low, but was higher on validation and test sets.\n",
    "- Lower amount of features\n",
    "- Address class inbalance"
   ]
  },
  {
   "cell_type": "markdown",
   "metadata": {},
   "source": [
    "### Final Model:"
   ]
  },
  {
   "cell_type": "code",
   "execution_count": 24,
   "metadata": {},
   "outputs": [],
   "source": [
    "from sklearn.preprocessing import MinMaxScaler"
   ]
  },
  {
   "cell_type": "code",
   "execution_count": 25,
   "metadata": {},
   "outputs": [],
   "source": [
    "categorical = ['Drug']\n",
    "std = ['N_Days', 'Age', 'Platelets']\n",
    "log_std = ['SGOT', 'Cholesterol', 'Copper']\n",
    "sparse_dists = ['Bilirubin', 'Alk_Phos', 'Prothrombin']\n",
    "\n",
    "categorical_transformer = Pipeline(\n",
    "    steps=\n",
    "    [\n",
    "        ('one hot encode', OneHotEncoder())\n",
    "    ]\n",
    ")\n",
    "\n",
    "std_transformer = Pipeline(\n",
    "    steps=\n",
    "    [\n",
    "        ('standardization', StandardScaler())\n",
    "    ]\n",
    ")\n",
    "\n",
    "log_std_transformer = Pipeline(\n",
    "    steps=\n",
    "    [\n",
    "        ('log', FunctionTransformer(np.log)),\n",
    "        ('standardization', StandardScaler())\n",
    "    ]\n",
    ")\n",
    "\n",
    "sparse_transformer = Pipeline(\n",
    "    steps=\n",
    "    [\n",
    "        ('min-max', MinMaxScaler())\n",
    "    ]\n",
    ")\n",
    "\n",
    "preproc_final = ColumnTransformer(\n",
    "    transformers =\n",
    "    [\n",
    "        ('one hot encode', categorical_transformer, categorical),\n",
    "        ('standardize', std_transformer, std),\n",
    "        ('log std', log_std_transformer, log_std),\n",
    "        ('min-max', sparse_transformer, sparse_dists)\n",
    "    ],\n",
    "    remainder='drop'\n",
    ")\n",
    "\n",
    "final_pl = Pipeline(\n",
    "    [\n",
    "        ('preprocessor', preproc_final),\n",
    "        ('rfc', RandomForestClassifier(\n",
    "                random_state=69,\n",
    "                class_weight='balanced',\n",
    "                criterion='gini',\n",
    "                max_features='sqrt'\n",
    "            )\n",
    "        )\n",
    "    ]\n",
    ")"
   ]
  },
  {
   "cell_type": "code",
   "execution_count": 26,
   "metadata": {},
   "outputs": [
    {
     "data": {
      "text/html": [
       "<style>#sk-container-id-2 {color: black;}#sk-container-id-2 pre{padding: 0;}#sk-container-id-2 div.sk-toggleable {background-color: white;}#sk-container-id-2 label.sk-toggleable__label {cursor: pointer;display: block;width: 100%;margin-bottom: 0;padding: 0.3em;box-sizing: border-box;text-align: center;}#sk-container-id-2 label.sk-toggleable__label-arrow:before {content: \"▸\";float: left;margin-right: 0.25em;color: #696969;}#sk-container-id-2 label.sk-toggleable__label-arrow:hover:before {color: black;}#sk-container-id-2 div.sk-estimator:hover label.sk-toggleable__label-arrow:before {color: black;}#sk-container-id-2 div.sk-toggleable__content {max-height: 0;max-width: 0;overflow: hidden;text-align: left;background-color: #f0f8ff;}#sk-container-id-2 div.sk-toggleable__content pre {margin: 0.2em;color: black;border-radius: 0.25em;background-color: #f0f8ff;}#sk-container-id-2 input.sk-toggleable__control:checked~div.sk-toggleable__content {max-height: 200px;max-width: 100%;overflow: auto;}#sk-container-id-2 input.sk-toggleable__control:checked~label.sk-toggleable__label-arrow:before {content: \"▾\";}#sk-container-id-2 div.sk-estimator input.sk-toggleable__control:checked~label.sk-toggleable__label {background-color: #d4ebff;}#sk-container-id-2 div.sk-label input.sk-toggleable__control:checked~label.sk-toggleable__label {background-color: #d4ebff;}#sk-container-id-2 input.sk-hidden--visually {border: 0;clip: rect(1px 1px 1px 1px);clip: rect(1px, 1px, 1px, 1px);height: 1px;margin: -1px;overflow: hidden;padding: 0;position: absolute;width: 1px;}#sk-container-id-2 div.sk-estimator {font-family: monospace;background-color: #f0f8ff;border: 1px dotted black;border-radius: 0.25em;box-sizing: border-box;margin-bottom: 0.5em;}#sk-container-id-2 div.sk-estimator:hover {background-color: #d4ebff;}#sk-container-id-2 div.sk-parallel-item::after {content: \"\";width: 100%;border-bottom: 1px solid gray;flex-grow: 1;}#sk-container-id-2 div.sk-label:hover label.sk-toggleable__label {background-color: #d4ebff;}#sk-container-id-2 div.sk-serial::before {content: \"\";position: absolute;border-left: 1px solid gray;box-sizing: border-box;top: 0;bottom: 0;left: 50%;z-index: 0;}#sk-container-id-2 div.sk-serial {display: flex;flex-direction: column;align-items: center;background-color: white;padding-right: 0.2em;padding-left: 0.2em;position: relative;}#sk-container-id-2 div.sk-item {position: relative;z-index: 1;}#sk-container-id-2 div.sk-parallel {display: flex;align-items: stretch;justify-content: center;background-color: white;position: relative;}#sk-container-id-2 div.sk-item::before, #sk-container-id-2 div.sk-parallel-item::before {content: \"\";position: absolute;border-left: 1px solid gray;box-sizing: border-box;top: 0;bottom: 0;left: 50%;z-index: -1;}#sk-container-id-2 div.sk-parallel-item {display: flex;flex-direction: column;z-index: 1;position: relative;background-color: white;}#sk-container-id-2 div.sk-parallel-item:first-child::after {align-self: flex-end;width: 50%;}#sk-container-id-2 div.sk-parallel-item:last-child::after {align-self: flex-start;width: 50%;}#sk-container-id-2 div.sk-parallel-item:only-child::after {width: 0;}#sk-container-id-2 div.sk-dashed-wrapped {border: 1px dashed gray;margin: 0 0.4em 0.5em 0.4em;box-sizing: border-box;padding-bottom: 0.4em;background-color: white;}#sk-container-id-2 div.sk-label label {font-family: monospace;font-weight: bold;display: inline-block;line-height: 1.2em;}#sk-container-id-2 div.sk-label-container {text-align: center;}#sk-container-id-2 div.sk-container {/* jupyter's `normalize.less` sets `[hidden] { display: none; }` but bootstrap.min.css set `[hidden] { display: none !important; }` so we also need the `!important` here to be able to override the default hidden behavior on the sphinx rendered scikit-learn.org. See: https://github.com/scikit-learn/scikit-learn/issues/21755 */display: inline-block !important;position: relative;}#sk-container-id-2 div.sk-text-repr-fallback {display: none;}</style><div id=\"sk-container-id-2\" class=\"sk-top-container\"><div class=\"sk-text-repr-fallback\"><pre>Pipeline(steps=[(&#x27;preprocessor&#x27;,\n",
       "                 ColumnTransformer(transformers=[(&#x27;one hot encode&#x27;,\n",
       "                                                  Pipeline(steps=[(&#x27;one hot &#x27;\n",
       "                                                                   &#x27;encode&#x27;,\n",
       "                                                                   OneHotEncoder())]),\n",
       "                                                  [&#x27;Drug&#x27;]),\n",
       "                                                 (&#x27;standardize&#x27;,\n",
       "                                                  Pipeline(steps=[(&#x27;standardization&#x27;,\n",
       "                                                                   StandardScaler())]),\n",
       "                                                  [&#x27;N_Days&#x27;, &#x27;Age&#x27;,\n",
       "                                                   &#x27;Platelets&#x27;]),\n",
       "                                                 (&#x27;log std&#x27;,\n",
       "                                                  Pipeline(steps=[(&#x27;log&#x27;,\n",
       "                                                                   FunctionTransformer(func=&lt;ufunc &#x27;log&#x27;&gt;)),\n",
       "                                                                  (&#x27;standardization&#x27;,\n",
       "                                                                   StandardScaler())]),\n",
       "                                                  [&#x27;SGOT&#x27;, &#x27;Cholesterol&#x27;,\n",
       "                                                   &#x27;Copper&#x27;]),\n",
       "                                                 (&#x27;min-max&#x27;,\n",
       "                                                  Pipeline(steps=[(&#x27;min-max&#x27;,\n",
       "                                                                   MinMaxScaler())]),\n",
       "                                                  [&#x27;Bilirubin&#x27;, &#x27;Alk_Phos&#x27;,\n",
       "                                                   &#x27;Prothrombin&#x27;])])),\n",
       "                (&#x27;rfc&#x27;,\n",
       "                 RandomForestClassifier(class_weight=&#x27;balanced&#x27;,\n",
       "                                        random_state=69))])</pre><b>In a Jupyter environment, please rerun this cell to show the HTML representation or trust the notebook. <br />On GitHub, the HTML representation is unable to render, please try loading this page with nbviewer.org.</b></div><div class=\"sk-container\" hidden><div class=\"sk-item sk-dashed-wrapped\"><div class=\"sk-label-container\"><div class=\"sk-label sk-toggleable\"><input class=\"sk-toggleable__control sk-hidden--visually\" id=\"sk-estimator-id-11\" type=\"checkbox\" ><label for=\"sk-estimator-id-11\" class=\"sk-toggleable__label sk-toggleable__label-arrow\">Pipeline</label><div class=\"sk-toggleable__content\"><pre>Pipeline(steps=[(&#x27;preprocessor&#x27;,\n",
       "                 ColumnTransformer(transformers=[(&#x27;one hot encode&#x27;,\n",
       "                                                  Pipeline(steps=[(&#x27;one hot &#x27;\n",
       "                                                                   &#x27;encode&#x27;,\n",
       "                                                                   OneHotEncoder())]),\n",
       "                                                  [&#x27;Drug&#x27;]),\n",
       "                                                 (&#x27;standardize&#x27;,\n",
       "                                                  Pipeline(steps=[(&#x27;standardization&#x27;,\n",
       "                                                                   StandardScaler())]),\n",
       "                                                  [&#x27;N_Days&#x27;, &#x27;Age&#x27;,\n",
       "                                                   &#x27;Platelets&#x27;]),\n",
       "                                                 (&#x27;log std&#x27;,\n",
       "                                                  Pipeline(steps=[(&#x27;log&#x27;,\n",
       "                                                                   FunctionTransformer(func=&lt;ufunc &#x27;log&#x27;&gt;)),\n",
       "                                                                  (&#x27;standardization&#x27;,\n",
       "                                                                   StandardScaler())]),\n",
       "                                                  [&#x27;SGOT&#x27;, &#x27;Cholesterol&#x27;,\n",
       "                                                   &#x27;Copper&#x27;]),\n",
       "                                                 (&#x27;min-max&#x27;,\n",
       "                                                  Pipeline(steps=[(&#x27;min-max&#x27;,\n",
       "                                                                   MinMaxScaler())]),\n",
       "                                                  [&#x27;Bilirubin&#x27;, &#x27;Alk_Phos&#x27;,\n",
       "                                                   &#x27;Prothrombin&#x27;])])),\n",
       "                (&#x27;rfc&#x27;,\n",
       "                 RandomForestClassifier(class_weight=&#x27;balanced&#x27;,\n",
       "                                        random_state=69))])</pre></div></div></div><div class=\"sk-serial\"><div class=\"sk-item sk-dashed-wrapped\"><div class=\"sk-label-container\"><div class=\"sk-label sk-toggleable\"><input class=\"sk-toggleable__control sk-hidden--visually\" id=\"sk-estimator-id-12\" type=\"checkbox\" ><label for=\"sk-estimator-id-12\" class=\"sk-toggleable__label sk-toggleable__label-arrow\">preprocessor: ColumnTransformer</label><div class=\"sk-toggleable__content\"><pre>ColumnTransformer(transformers=[(&#x27;one hot encode&#x27;,\n",
       "                                 Pipeline(steps=[(&#x27;one hot encode&#x27;,\n",
       "                                                  OneHotEncoder())]),\n",
       "                                 [&#x27;Drug&#x27;]),\n",
       "                                (&#x27;standardize&#x27;,\n",
       "                                 Pipeline(steps=[(&#x27;standardization&#x27;,\n",
       "                                                  StandardScaler())]),\n",
       "                                 [&#x27;N_Days&#x27;, &#x27;Age&#x27;, &#x27;Platelets&#x27;]),\n",
       "                                (&#x27;log std&#x27;,\n",
       "                                 Pipeline(steps=[(&#x27;log&#x27;,\n",
       "                                                  FunctionTransformer(func=&lt;ufunc &#x27;log&#x27;&gt;)),\n",
       "                                                 (&#x27;standardization&#x27;,\n",
       "                                                  StandardScaler())]),\n",
       "                                 [&#x27;SGOT&#x27;, &#x27;Cholesterol&#x27;, &#x27;Copper&#x27;]),\n",
       "                                (&#x27;min-max&#x27;,\n",
       "                                 Pipeline(steps=[(&#x27;min-max&#x27;, MinMaxScaler())]),\n",
       "                                 [&#x27;Bilirubin&#x27;, &#x27;Alk_Phos&#x27;, &#x27;Prothrombin&#x27;])])</pre></div></div></div><div class=\"sk-parallel\"><div class=\"sk-parallel-item\"><div class=\"sk-item\"><div class=\"sk-label-container\"><div class=\"sk-label sk-toggleable\"><input class=\"sk-toggleable__control sk-hidden--visually\" id=\"sk-estimator-id-13\" type=\"checkbox\" ><label for=\"sk-estimator-id-13\" class=\"sk-toggleable__label sk-toggleable__label-arrow\">one hot encode</label><div class=\"sk-toggleable__content\"><pre>[&#x27;Drug&#x27;]</pre></div></div></div><div class=\"sk-serial\"><div class=\"sk-item\"><div class=\"sk-serial\"><div class=\"sk-item\"><div class=\"sk-estimator sk-toggleable\"><input class=\"sk-toggleable__control sk-hidden--visually\" id=\"sk-estimator-id-14\" type=\"checkbox\" ><label for=\"sk-estimator-id-14\" class=\"sk-toggleable__label sk-toggleable__label-arrow\">OneHotEncoder</label><div class=\"sk-toggleable__content\"><pre>OneHotEncoder()</pre></div></div></div></div></div></div></div></div><div class=\"sk-parallel-item\"><div class=\"sk-item\"><div class=\"sk-label-container\"><div class=\"sk-label sk-toggleable\"><input class=\"sk-toggleable__control sk-hidden--visually\" id=\"sk-estimator-id-15\" type=\"checkbox\" ><label for=\"sk-estimator-id-15\" class=\"sk-toggleable__label sk-toggleable__label-arrow\">standardize</label><div class=\"sk-toggleable__content\"><pre>[&#x27;N_Days&#x27;, &#x27;Age&#x27;, &#x27;Platelets&#x27;]</pre></div></div></div><div class=\"sk-serial\"><div class=\"sk-item\"><div class=\"sk-serial\"><div class=\"sk-item\"><div class=\"sk-estimator sk-toggleable\"><input class=\"sk-toggleable__control sk-hidden--visually\" id=\"sk-estimator-id-16\" type=\"checkbox\" ><label for=\"sk-estimator-id-16\" class=\"sk-toggleable__label sk-toggleable__label-arrow\">StandardScaler</label><div class=\"sk-toggleable__content\"><pre>StandardScaler()</pre></div></div></div></div></div></div></div></div><div class=\"sk-parallel-item\"><div class=\"sk-item\"><div class=\"sk-label-container\"><div class=\"sk-label sk-toggleable\"><input class=\"sk-toggleable__control sk-hidden--visually\" id=\"sk-estimator-id-17\" type=\"checkbox\" ><label for=\"sk-estimator-id-17\" class=\"sk-toggleable__label sk-toggleable__label-arrow\">log std</label><div class=\"sk-toggleable__content\"><pre>[&#x27;SGOT&#x27;, &#x27;Cholesterol&#x27;, &#x27;Copper&#x27;]</pre></div></div></div><div class=\"sk-serial\"><div class=\"sk-item\"><div class=\"sk-serial\"><div class=\"sk-item\"><div class=\"sk-estimator sk-toggleable\"><input class=\"sk-toggleable__control sk-hidden--visually\" id=\"sk-estimator-id-18\" type=\"checkbox\" ><label for=\"sk-estimator-id-18\" class=\"sk-toggleable__label sk-toggleable__label-arrow\">FunctionTransformer</label><div class=\"sk-toggleable__content\"><pre>FunctionTransformer(func=&lt;ufunc &#x27;log&#x27;&gt;)</pre></div></div></div><div class=\"sk-item\"><div class=\"sk-estimator sk-toggleable\"><input class=\"sk-toggleable__control sk-hidden--visually\" id=\"sk-estimator-id-19\" type=\"checkbox\" ><label for=\"sk-estimator-id-19\" class=\"sk-toggleable__label sk-toggleable__label-arrow\">StandardScaler</label><div class=\"sk-toggleable__content\"><pre>StandardScaler()</pre></div></div></div></div></div></div></div></div><div class=\"sk-parallel-item\"><div class=\"sk-item\"><div class=\"sk-label-container\"><div class=\"sk-label sk-toggleable\"><input class=\"sk-toggleable__control sk-hidden--visually\" id=\"sk-estimator-id-20\" type=\"checkbox\" ><label for=\"sk-estimator-id-20\" class=\"sk-toggleable__label sk-toggleable__label-arrow\">min-max</label><div class=\"sk-toggleable__content\"><pre>[&#x27;Bilirubin&#x27;, &#x27;Alk_Phos&#x27;, &#x27;Prothrombin&#x27;]</pre></div></div></div><div class=\"sk-serial\"><div class=\"sk-item\"><div class=\"sk-serial\"><div class=\"sk-item\"><div class=\"sk-estimator sk-toggleable\"><input class=\"sk-toggleable__control sk-hidden--visually\" id=\"sk-estimator-id-21\" type=\"checkbox\" ><label for=\"sk-estimator-id-21\" class=\"sk-toggleable__label sk-toggleable__label-arrow\">MinMaxScaler</label><div class=\"sk-toggleable__content\"><pre>MinMaxScaler()</pre></div></div></div></div></div></div></div></div></div></div><div class=\"sk-item\"><div class=\"sk-estimator sk-toggleable\"><input class=\"sk-toggleable__control sk-hidden--visually\" id=\"sk-estimator-id-22\" type=\"checkbox\" ><label for=\"sk-estimator-id-22\" class=\"sk-toggleable__label sk-toggleable__label-arrow\">RandomForestClassifier</label><div class=\"sk-toggleable__content\"><pre>RandomForestClassifier(class_weight=&#x27;balanced&#x27;, random_state=69)</pre></div></div></div></div></div></div></div>"
      ],
      "text/plain": [
       "Pipeline(steps=[('preprocessor',\n",
       "                 ColumnTransformer(transformers=[('one hot encode',\n",
       "                                                  Pipeline(steps=[('one hot '\n",
       "                                                                   'encode',\n",
       "                                                                   OneHotEncoder())]),\n",
       "                                                  ['Drug']),\n",
       "                                                 ('standardize',\n",
       "                                                  Pipeline(steps=[('standardization',\n",
       "                                                                   StandardScaler())]),\n",
       "                                                  ['N_Days', 'Age',\n",
       "                                                   'Platelets']),\n",
       "                                                 ('log std',\n",
       "                                                  Pipeline(steps=[('log',\n",
       "                                                                   FunctionTransformer(func=<ufunc 'log'>)),\n",
       "                                                                  ('standardization',\n",
       "                                                                   StandardScaler())]),\n",
       "                                                  ['SGOT', 'Cholesterol',\n",
       "                                                   'Copper']),\n",
       "                                                 ('min-max',\n",
       "                                                  Pipeline(steps=[('min-max',\n",
       "                                                                   MinMaxScaler())]),\n",
       "                                                  ['Bilirubin', 'Alk_Phos',\n",
       "                                                   'Prothrombin'])])),\n",
       "                ('rfc',\n",
       "                 RandomForestClassifier(class_weight='balanced',\n",
       "                                        random_state=69))])"
      ]
     },
     "execution_count": 26,
     "metadata": {},
     "output_type": "execute_result"
    }
   ],
   "source": [
    "final_pl.fit(train_X, train_Y)"
   ]
  },
  {
   "cell_type": "code",
   "execution_count": 27,
   "metadata": {},
   "outputs": [],
   "source": [
    "hyperparams = {\n",
    "    'rfc__criterion'   : ['gini', 'entropy'],\n",
    "    'rfc__max_features': ['sqrt', 'log2', None],\n",
    "    'rfc__class_weight': ['balanced'],\n",
    "}\n",
    "\n",
    "# grid_search = GridSearchCV(final_pl, hyperparams, scoring='neg_log_loss')\n",
    "# grid_search.fit(train_X, train_Y)\n",
    "# print(grid_search.best_params_)\n",
    "\n",
    "# Result: {'rfc__class_weight': 'balanced', 'rfc__criterion': 'gini', 'rfc__max_features': 'sqrt'}"
   ]
  },
  {
   "cell_type": "code",
   "execution_count": 28,
   "metadata": {},
   "outputs": [
    {
     "data": {
      "image/png": "[encoded data removed]",
      "text/plain": [
       "<Figure size 640x480 with 1 Axes>"
      ]
     },
     "metadata": {},
     "output_type": "display_data"
    }
   ],
   "source": [
    "feat_importances = final_pl.named_steps['rfc'].feature_importances_\n",
    "\n",
    "# Get the names of the features after preprocessing\n",
    "feature_names = preproc_final.transformers_[0][1]['one hot encode'].get_feature_names_out(categorical).tolist()\n",
    "feature_names = feature_names + std + log_std + sparse_dists\n",
    "\n",
    "# Create a DataFrame to display the feature importances\n",
    "feature_importance_df = pd.DataFrame({\n",
    "    'Feature': feature_names,\n",
    "    'Importance': feat_importances\n",
    "})\n",
    "\n",
    "# Sort the DataFrame by importance in descending order\n",
    "feature_importance_df = feature_importance_df.sort_values(by='Importance', ascending=False)\n",
    "\n",
    "# Display the feature importances\n",
    "feat_fig = sns.barplot(data=feature_importance_df,\n",
    "                       x='Feature', \n",
    "                       y='Importance');\n",
    "feat_fig.set_xticklabels(labels=feature_importance_df.Feature, rotation=90);"
   ]
  },
  {
   "cell_type": "code",
   "execution_count": 29,
   "metadata": {},
   "outputs": [],
   "source": [
    "final_pl_predicted_train_Y = final_pl.predict(train_X)\n",
    "final_pl_predicted_val_Y   = final_pl.predict(val_X)\n",
    "final_pl_predicted_test_Y  = final_pl.predict(test_X)"
   ]
  },
  {
   "cell_type": "code",
   "execution_count": 30,
   "metadata": {},
   "outputs": [
    {
     "name": "stdout",
     "output_type": "stream",
     "text": [
      "              precision    recall  f1-score   support\n",
      "\n",
      "           C       1.00      1.00      1.00      2978\n",
      "          CL       0.99      1.00      1.00       170\n",
      "           D       1.00      1.00      1.00      1595\n",
      "\n",
      "    accuracy                           1.00      4743\n",
      "   macro avg       1.00      1.00      1.00      4743\n",
      "weighted avg       1.00      1.00      1.00      4743\n",
      "\n"
     ]
    }
   ],
   "source": [
    "print(classification_report(train_Y.values.flatten(), final_pl_predicted_train_Y))"
   ]
  },
  {
   "cell_type": "code",
   "execution_count": 31,
   "metadata": {},
   "outputs": [
    {
     "name": "stdout",
     "output_type": "stream",
     "text": [
      "              precision    recall  f1-score   support\n",
      "\n",
      "           C       0.83      0.93      0.88      1007\n",
      "          CL       0.67      0.16      0.26        38\n",
      "           D       0.81      0.68      0.74       536\n",
      "\n",
      "    accuracy                           0.82      1581\n",
      "   macro avg       0.77      0.59      0.62      1581\n",
      "weighted avg       0.82      0.82      0.82      1581\n",
      "\n"
     ]
    }
   ],
   "source": [
    "print(classification_report(val_Y.values.flatten(), final_pl_predicted_val_Y))"
   ]
  },
  {
   "cell_type": "code",
   "execution_count": 32,
   "metadata": {},
   "outputs": [
    {
     "name": "stdout",
     "output_type": "stream",
     "text": [
      "              precision    recall  f1-score   support\n",
      "\n",
      "           C       0.84      0.93      0.88       980\n",
      "          CL       0.79      0.16      0.27        67\n",
      "           D       0.81      0.73      0.77       534\n",
      "\n",
      "    accuracy                           0.83      1581\n",
      "   macro avg       0.81      0.61      0.64      1581\n",
      "weighted avg       0.83      0.83      0.82      1581\n",
      "\n"
     ]
    }
   ],
   "source": [
    "print(classification_report(test_Y.values.flatten(), final_pl_predicted_test_Y))"
   ]
  },
  {
   "cell_type": "code",
   "execution_count": 44,
   "metadata": {},
   "outputs": [
    {
     "data": {
      "text/plain": [
       "(0.11785709864674453, 0.11646288929942221, 0.11473686595264715)"
      ]
     },
     "execution_count": 44,
     "metadata": {},
     "output_type": "execute_result"
    }
   ],
   "source": [
    "final_pl_predicted_train_Y = final_pl.predict_proba(train_X)\n",
    "final_pl_predicted_val_Y   = final_pl.predict_proba(val_X)\n",
    "final_pl_predicted_test_Y  = final_pl.predict_proba(test_X)\n",
    "\n",
    "(\n",
    "    log_loss(train_Y.values.flatten(), final_pl_predicted_train_Y), \n",
    "    log_loss(val_Y.values.flatten(),   final_pl_predicted_val_Y),\n",
    "    log_loss(test_Y.values.flatten(),  final_pl_predicted_test_Y)\n",
    ")"
   ]
  },
  {
   "cell_type": "markdown",
   "metadata": {},
   "source": [
    "Fitting onto all of training data:"
   ]
  },
  {
   "cell_type": "code",
   "execution_count": 34,
   "metadata": {},
   "outputs": [
    {
     "data": {
      "text/html": [
       "<style>#sk-container-id-3 {color: black;}#sk-container-id-3 pre{padding: 0;}#sk-container-id-3 div.sk-toggleable {background-color: white;}#sk-container-id-3 label.sk-toggleable__label {cursor: pointer;display: block;width: 100%;margin-bottom: 0;padding: 0.3em;box-sizing: border-box;text-align: center;}#sk-container-id-3 label.sk-toggleable__label-arrow:before {content: \"▸\";float: left;margin-right: 0.25em;color: #696969;}#sk-container-id-3 label.sk-toggleable__label-arrow:hover:before {color: black;}#sk-container-id-3 div.sk-estimator:hover label.sk-toggleable__label-arrow:before {color: black;}#sk-container-id-3 div.sk-toggleable__content {max-height: 0;max-width: 0;overflow: hidden;text-align: left;background-color: #f0f8ff;}#sk-container-id-3 div.sk-toggleable__content pre {margin: 0.2em;color: black;border-radius: 0.25em;background-color: #f0f8ff;}#sk-container-id-3 input.sk-toggleable__control:checked~div.sk-toggleable__content {max-height: 200px;max-width: 100%;overflow: auto;}#sk-container-id-3 input.sk-toggleable__control:checked~label.sk-toggleable__label-arrow:before {content: \"▾\";}#sk-container-id-3 div.sk-estimator input.sk-toggleable__control:checked~label.sk-toggleable__label {background-color: #d4ebff;}#sk-container-id-3 div.sk-label input.sk-toggleable__control:checked~label.sk-toggleable__label {background-color: #d4ebff;}#sk-container-id-3 input.sk-hidden--visually {border: 0;clip: rect(1px 1px 1px 1px);clip: rect(1px, 1px, 1px, 1px);height: 1px;margin: -1px;overflow: hidden;padding: 0;position: absolute;width: 1px;}#sk-container-id-3 div.sk-estimator {font-family: monospace;background-color: #f0f8ff;border: 1px dotted black;border-radius: 0.25em;box-sizing: border-box;margin-bottom: 0.5em;}#sk-container-id-3 div.sk-estimator:hover {background-color: #d4ebff;}#sk-container-id-3 div.sk-parallel-item::after {content: \"\";width: 100%;border-bottom: 1px solid gray;flex-grow: 1;}#sk-container-id-3 div.sk-label:hover label.sk-toggleable__label {background-color: #d4ebff;}#sk-container-id-3 div.sk-serial::before {content: \"\";position: absolute;border-left: 1px solid gray;box-sizing: border-box;top: 0;bottom: 0;left: 50%;z-index: 0;}#sk-container-id-3 div.sk-serial {display: flex;flex-direction: column;align-items: center;background-color: white;padding-right: 0.2em;padding-left: 0.2em;position: relative;}#sk-container-id-3 div.sk-item {position: relative;z-index: 1;}#sk-container-id-3 div.sk-parallel {display: flex;align-items: stretch;justify-content: center;background-color: white;position: relative;}#sk-container-id-3 div.sk-item::before, #sk-container-id-3 div.sk-parallel-item::before {content: \"\";position: absolute;border-left: 1px solid gray;box-sizing: border-box;top: 0;bottom: 0;left: 50%;z-index: -1;}#sk-container-id-3 div.sk-parallel-item {display: flex;flex-direction: column;z-index: 1;position: relative;background-color: white;}#sk-container-id-3 div.sk-parallel-item:first-child::after {align-self: flex-end;width: 50%;}#sk-container-id-3 div.sk-parallel-item:last-child::after {align-self: flex-start;width: 50%;}#sk-container-id-3 div.sk-parallel-item:only-child::after {width: 0;}#sk-container-id-3 div.sk-dashed-wrapped {border: 1px dashed gray;margin: 0 0.4em 0.5em 0.4em;box-sizing: border-box;padding-bottom: 0.4em;background-color: white;}#sk-container-id-3 div.sk-label label {font-family: monospace;font-weight: bold;display: inline-block;line-height: 1.2em;}#sk-container-id-3 div.sk-label-container {text-align: center;}#sk-container-id-3 div.sk-container {/* jupyter's `normalize.less` sets `[hidden] { display: none; }` but bootstrap.min.css set `[hidden] { display: none !important; }` so we also need the `!important` here to be able to override the default hidden behavior on the sphinx rendered scikit-learn.org. See: https://github.com/scikit-learn/scikit-learn/issues/21755 */display: inline-block !important;position: relative;}#sk-container-id-3 div.sk-text-repr-fallback {display: none;}</style><div id=\"sk-container-id-3\" class=\"sk-top-container\"><div class=\"sk-text-repr-fallback\"><pre>Pipeline(steps=[(&#x27;preprocessor&#x27;,\n",
       "                 ColumnTransformer(transformers=[(&#x27;one hot encode&#x27;,\n",
       "                                                  Pipeline(steps=[(&#x27;one hot &#x27;\n",
       "                                                                   &#x27;encode&#x27;,\n",
       "                                                                   OneHotEncoder())]),\n",
       "                                                  [&#x27;Drug&#x27;]),\n",
       "                                                 (&#x27;standardize&#x27;,\n",
       "                                                  Pipeline(steps=[(&#x27;standardization&#x27;,\n",
       "                                                                   StandardScaler())]),\n",
       "                                                  [&#x27;N_Days&#x27;, &#x27;Age&#x27;,\n",
       "                                                   &#x27;Platelets&#x27;]),\n",
       "                                                 (&#x27;log std&#x27;,\n",
       "                                                  Pipeline(steps=[(&#x27;log&#x27;,\n",
       "                                                                   FunctionTransformer(func=&lt;ufunc &#x27;log&#x27;&gt;)),\n",
       "                                                                  (&#x27;standardization&#x27;,\n",
       "                                                                   StandardScaler())]),\n",
       "                                                  [&#x27;SGOT&#x27;, &#x27;Cholesterol&#x27;,\n",
       "                                                   &#x27;Copper&#x27;]),\n",
       "                                                 (&#x27;min-max&#x27;,\n",
       "                                                  Pipeline(steps=[(&#x27;min-max&#x27;,\n",
       "                                                                   MinMaxScaler())]),\n",
       "                                                  [&#x27;Bilirubin&#x27;, &#x27;Alk_Phos&#x27;,\n",
       "                                                   &#x27;Prothrombin&#x27;])])),\n",
       "                (&#x27;rfc&#x27;,\n",
       "                 RandomForestClassifier(class_weight=&#x27;balanced&#x27;,\n",
       "                                        random_state=69))])</pre><b>In a Jupyter environment, please rerun this cell to show the HTML representation or trust the notebook. <br />On GitHub, the HTML representation is unable to render, please try loading this page with nbviewer.org.</b></div><div class=\"sk-container\" hidden><div class=\"sk-item sk-dashed-wrapped\"><div class=\"sk-label-container\"><div class=\"sk-label sk-toggleable\"><input class=\"sk-toggleable__control sk-hidden--visually\" id=\"sk-estimator-id-23\" type=\"checkbox\" ><label for=\"sk-estimator-id-23\" class=\"sk-toggleable__label sk-toggleable__label-arrow\">Pipeline</label><div class=\"sk-toggleable__content\"><pre>Pipeline(steps=[(&#x27;preprocessor&#x27;,\n",
       "                 ColumnTransformer(transformers=[(&#x27;one hot encode&#x27;,\n",
       "                                                  Pipeline(steps=[(&#x27;one hot &#x27;\n",
       "                                                                   &#x27;encode&#x27;,\n",
       "                                                                   OneHotEncoder())]),\n",
       "                                                  [&#x27;Drug&#x27;]),\n",
       "                                                 (&#x27;standardize&#x27;,\n",
       "                                                  Pipeline(steps=[(&#x27;standardization&#x27;,\n",
       "                                                                   StandardScaler())]),\n",
       "                                                  [&#x27;N_Days&#x27;, &#x27;Age&#x27;,\n",
       "                                                   &#x27;Platelets&#x27;]),\n",
       "                                                 (&#x27;log std&#x27;,\n",
       "                                                  Pipeline(steps=[(&#x27;log&#x27;,\n",
       "                                                                   FunctionTransformer(func=&lt;ufunc &#x27;log&#x27;&gt;)),\n",
       "                                                                  (&#x27;standardization&#x27;,\n",
       "                                                                   StandardScaler())]),\n",
       "                                                  [&#x27;SGOT&#x27;, &#x27;Cholesterol&#x27;,\n",
       "                                                   &#x27;Copper&#x27;]),\n",
       "                                                 (&#x27;min-max&#x27;,\n",
       "                                                  Pipeline(steps=[(&#x27;min-max&#x27;,\n",
       "                                                                   MinMaxScaler())]),\n",
       "                                                  [&#x27;Bilirubin&#x27;, &#x27;Alk_Phos&#x27;,\n",
       "                                                   &#x27;Prothrombin&#x27;])])),\n",
       "                (&#x27;rfc&#x27;,\n",
       "                 RandomForestClassifier(class_weight=&#x27;balanced&#x27;,\n",
       "                                        random_state=69))])</pre></div></div></div><div class=\"sk-serial\"><div class=\"sk-item sk-dashed-wrapped\"><div class=\"sk-label-container\"><div class=\"sk-label sk-toggleable\"><input class=\"sk-toggleable__control sk-hidden--visually\" id=\"sk-estimator-id-24\" type=\"checkbox\" ><label for=\"sk-estimator-id-24\" class=\"sk-toggleable__label sk-toggleable__label-arrow\">preprocessor: ColumnTransformer</label><div class=\"sk-toggleable__content\"><pre>ColumnTransformer(transformers=[(&#x27;one hot encode&#x27;,\n",
       "                                 Pipeline(steps=[(&#x27;one hot encode&#x27;,\n",
       "                                                  OneHotEncoder())]),\n",
       "                                 [&#x27;Drug&#x27;]),\n",
       "                                (&#x27;standardize&#x27;,\n",
       "                                 Pipeline(steps=[(&#x27;standardization&#x27;,\n",
       "                                                  StandardScaler())]),\n",
       "                                 [&#x27;N_Days&#x27;, &#x27;Age&#x27;, &#x27;Platelets&#x27;]),\n",
       "                                (&#x27;log std&#x27;,\n",
       "                                 Pipeline(steps=[(&#x27;log&#x27;,\n",
       "                                                  FunctionTransformer(func=&lt;ufunc &#x27;log&#x27;&gt;)),\n",
       "                                                 (&#x27;standardization&#x27;,\n",
       "                                                  StandardScaler())]),\n",
       "                                 [&#x27;SGOT&#x27;, &#x27;Cholesterol&#x27;, &#x27;Copper&#x27;]),\n",
       "                                (&#x27;min-max&#x27;,\n",
       "                                 Pipeline(steps=[(&#x27;min-max&#x27;, MinMaxScaler())]),\n",
       "                                 [&#x27;Bilirubin&#x27;, &#x27;Alk_Phos&#x27;, &#x27;Prothrombin&#x27;])])</pre></div></div></div><div class=\"sk-parallel\"><div class=\"sk-parallel-item\"><div class=\"sk-item\"><div class=\"sk-label-container\"><div class=\"sk-label sk-toggleable\"><input class=\"sk-toggleable__control sk-hidden--visually\" id=\"sk-estimator-id-25\" type=\"checkbox\" ><label for=\"sk-estimator-id-25\" class=\"sk-toggleable__label sk-toggleable__label-arrow\">one hot encode</label><div class=\"sk-toggleable__content\"><pre>[&#x27;Drug&#x27;]</pre></div></div></div><div class=\"sk-serial\"><div class=\"sk-item\"><div class=\"sk-serial\"><div class=\"sk-item\"><div class=\"sk-estimator sk-toggleable\"><input class=\"sk-toggleable__control sk-hidden--visually\" id=\"sk-estimator-id-26\" type=\"checkbox\" ><label for=\"sk-estimator-id-26\" class=\"sk-toggleable__label sk-toggleable__label-arrow\">OneHotEncoder</label><div class=\"sk-toggleable__content\"><pre>OneHotEncoder()</pre></div></div></div></div></div></div></div></div><div class=\"sk-parallel-item\"><div class=\"sk-item\"><div class=\"sk-label-container\"><div class=\"sk-label sk-toggleable\"><input class=\"sk-toggleable__control sk-hidden--visually\" id=\"sk-estimator-id-27\" type=\"checkbox\" ><label for=\"sk-estimator-id-27\" class=\"sk-toggleable__label sk-toggleable__label-arrow\">standardize</label><div class=\"sk-toggleable__content\"><pre>[&#x27;N_Days&#x27;, &#x27;Age&#x27;, &#x27;Platelets&#x27;]</pre></div></div></div><div class=\"sk-serial\"><div class=\"sk-item\"><div class=\"sk-serial\"><div class=\"sk-item\"><div class=\"sk-estimator sk-toggleable\"><input class=\"sk-toggleable__control sk-hidden--visually\" id=\"sk-estimator-id-28\" type=\"checkbox\" ><label for=\"sk-estimator-id-28\" class=\"sk-toggleable__label sk-toggleable__label-arrow\">StandardScaler</label><div class=\"sk-toggleable__content\"><pre>StandardScaler()</pre></div></div></div></div></div></div></div></div><div class=\"sk-parallel-item\"><div class=\"sk-item\"><div class=\"sk-label-container\"><div class=\"sk-label sk-toggleable\"><input class=\"sk-toggleable__control sk-hidden--visually\" id=\"sk-estimator-id-29\" type=\"checkbox\" ><label for=\"sk-estimator-id-29\" class=\"sk-toggleable__label sk-toggleable__label-arrow\">log std</label><div class=\"sk-toggleable__content\"><pre>[&#x27;SGOT&#x27;, &#x27;Cholesterol&#x27;, &#x27;Copper&#x27;]</pre></div></div></div><div class=\"sk-serial\"><div class=\"sk-item\"><div class=\"sk-serial\"><div class=\"sk-item\"><div class=\"sk-estimator sk-toggleable\"><input class=\"sk-toggleable__control sk-hidden--visually\" id=\"sk-estimator-id-30\" type=\"checkbox\" ><label for=\"sk-estimator-id-30\" class=\"sk-toggleable__label sk-toggleable__label-arrow\">FunctionTransformer</label><div class=\"sk-toggleable__content\"><pre>FunctionTransformer(func=&lt;ufunc &#x27;log&#x27;&gt;)</pre></div></div></div><div class=\"sk-item\"><div class=\"sk-estimator sk-toggleable\"><input class=\"sk-toggleable__control sk-hidden--visually\" id=\"sk-estimator-id-31\" type=\"checkbox\" ><label for=\"sk-estimator-id-31\" class=\"sk-toggleable__label sk-toggleable__label-arrow\">StandardScaler</label><div class=\"sk-toggleable__content\"><pre>StandardScaler()</pre></div></div></div></div></div></div></div></div><div class=\"sk-parallel-item\"><div class=\"sk-item\"><div class=\"sk-label-container\"><div class=\"sk-label sk-toggleable\"><input class=\"sk-toggleable__control sk-hidden--visually\" id=\"sk-estimator-id-32\" type=\"checkbox\" ><label for=\"sk-estimator-id-32\" class=\"sk-toggleable__label sk-toggleable__label-arrow\">min-max</label><div class=\"sk-toggleable__content\"><pre>[&#x27;Bilirubin&#x27;, &#x27;Alk_Phos&#x27;, &#x27;Prothrombin&#x27;]</pre></div></div></div><div class=\"sk-serial\"><div class=\"sk-item\"><div class=\"sk-serial\"><div class=\"sk-item\"><div class=\"sk-estimator sk-toggleable\"><input class=\"sk-toggleable__control sk-hidden--visually\" id=\"sk-estimator-id-33\" type=\"checkbox\" ><label for=\"sk-estimator-id-33\" class=\"sk-toggleable__label sk-toggleable__label-arrow\">MinMaxScaler</label><div class=\"sk-toggleable__content\"><pre>MinMaxScaler()</pre></div></div></div></div></div></div></div></div></div></div><div class=\"sk-item\"><div class=\"sk-estimator sk-toggleable\"><input class=\"sk-toggleable__control sk-hidden--visually\" id=\"sk-estimator-id-34\" type=\"checkbox\" ><label for=\"sk-estimator-id-34\" class=\"sk-toggleable__label sk-toggleable__label-arrow\">RandomForestClassifier</label><div class=\"sk-toggleable__content\"><pre>RandomForestClassifier(class_weight=&#x27;balanced&#x27;, random_state=69)</pre></div></div></div></div></div></div></div>"
      ],
      "text/plain": [
       "Pipeline(steps=[('preprocessor',\n",
       "                 ColumnTransformer(transformers=[('one hot encode',\n",
       "                                                  Pipeline(steps=[('one hot '\n",
       "                                                                   'encode',\n",
       "                                                                   OneHotEncoder())]),\n",
       "                                                  ['Drug']),\n",
       "                                                 ('standardize',\n",
       "                                                  Pipeline(steps=[('standardization',\n",
       "                                                                   StandardScaler())]),\n",
       "                                                  ['N_Days', 'Age',\n",
       "                                                   'Platelets']),\n",
       "                                                 ('log std',\n",
       "                                                  Pipeline(steps=[('log',\n",
       "                                                                   FunctionTransformer(func=<ufunc 'log'>)),\n",
       "                                                                  ('standardization',\n",
       "                                                                   StandardScaler())]),\n",
       "                                                  ['SGOT', 'Cholesterol',\n",
       "                                                   'Copper']),\n",
       "                                                 ('min-max',\n",
       "                                                  Pipeline(steps=[('min-max',\n",
       "                                                                   MinMaxScaler())]),\n",
       "                                                  ['Bilirubin', 'Alk_Phos',\n",
       "                                                   'Prothrombin'])])),\n",
       "                ('rfc',\n",
       "                 RandomForestClassifier(class_weight='balanced',\n",
       "                                        random_state=69))])"
      ]
     },
     "execution_count": 34,
     "metadata": {},
     "output_type": "execute_result"
    }
   ],
   "source": [
    "final_pl.fit(data_X, data_Y)"
   ]
  },
  {
   "cell_type": "code",
   "execution_count": 35,
   "metadata": {},
   "outputs": [
    {
     "data": {
      "text/plain": [
       "array([[0.01, 0.  , 0.99],\n",
       "       [0.9 , 0.  , 0.1 ],\n",
       "       [0.  , 0.  , 1.  ],\n",
       "       ...,\n",
       "       [0.06, 0.  , 0.94],\n",
       "       [0.39, 0.  , 0.61],\n",
       "       [1.  , 0.  , 0.  ]])"
      ]
     },
     "execution_count": 35,
     "metadata": {},
     "output_type": "execute_result"
    }
   ],
   "source": [
    "final_pl.predict_proba(data_X)"
   ]
  },
  {
   "cell_type": "markdown",
   "metadata": {},
   "source": [
    "Probabilities for each class on the individuals in the entire test set:"
   ]
  },
  {
   "cell_type": "code",
   "execution_count": 36,
   "metadata": {},
   "outputs": [
    {
     "data": {
      "text/plain": [
       "array([[0.65446025, 0.02      , 0.32553975],\n",
       "       [0.54      , 0.09      , 0.37      ],\n",
       "       [0.31      , 0.        , 0.69      ],\n",
       "       ...,\n",
       "       [1.        , 0.        , 0.        ],\n",
       "       [0.96      , 0.01      , 0.03      ],\n",
       "       [0.26      , 0.01      , 0.73      ]])"
      ]
     },
     "execution_count": 36,
     "metadata": {},
     "output_type": "execute_result"
    }
   ],
   "source": [
    "final_pl.predict_proba(test)"
   ]
  },
  {
   "cell_type": "code",
   "execution_count": 56,
   "metadata": {},
   "outputs": [
    {
     "data": {
      "text/html": [
       "<div>\n",
       "<style scoped>\n",
       "    .dataframe tbody tr th:only-of-type {\n",
       "        vertical-align: middle;\n",
       "    }\n",
       "\n",
       "    .dataframe tbody tr th {\n",
       "        vertical-align: top;\n",
       "    }\n",
       "\n",
       "    .dataframe thead th {\n",
       "        text-align: right;\n",
       "    }\n",
       "</style>\n",
       "<table border=\"1\" class=\"dataframe\">\n",
       "  <thead>\n",
       "    <tr style=\"text-align: right;\">\n",
       "      <th></th>\n",
       "      <th>C</th>\n",
       "      <th>CL</th>\n",
       "      <th>D</th>\n",
       "    </tr>\n",
       "    <tr>\n",
       "      <th>id</th>\n",
       "      <th></th>\n",
       "      <th></th>\n",
       "      <th></th>\n",
       "    </tr>\n",
       "  </thead>\n",
       "  <tbody>\n",
       "    <tr>\n",
       "      <th>7905</th>\n",
       "      <td>0.654460</td>\n",
       "      <td>0.02</td>\n",
       "      <td>0.325540</td>\n",
       "    </tr>\n",
       "    <tr>\n",
       "      <th>7906</th>\n",
       "      <td>0.540000</td>\n",
       "      <td>0.09</td>\n",
       "      <td>0.370000</td>\n",
       "    </tr>\n",
       "    <tr>\n",
       "      <th>7907</th>\n",
       "      <td>0.310000</td>\n",
       "      <td>0.00</td>\n",
       "      <td>0.690000</td>\n",
       "    </tr>\n",
       "    <tr>\n",
       "      <th>7908</th>\n",
       "      <td>0.910000</td>\n",
       "      <td>0.00</td>\n",
       "      <td>0.090000</td>\n",
       "    </tr>\n",
       "    <tr>\n",
       "      <th>7909</th>\n",
       "      <td>0.800000</td>\n",
       "      <td>0.02</td>\n",
       "      <td>0.180000</td>\n",
       "    </tr>\n",
       "    <tr>\n",
       "      <th>...</th>\n",
       "      <td>...</td>\n",
       "      <td>...</td>\n",
       "      <td>...</td>\n",
       "    </tr>\n",
       "    <tr>\n",
       "      <th>13171</th>\n",
       "      <td>0.630000</td>\n",
       "      <td>0.19</td>\n",
       "      <td>0.180000</td>\n",
       "    </tr>\n",
       "    <tr>\n",
       "      <th>13172</th>\n",
       "      <td>0.886822</td>\n",
       "      <td>0.00</td>\n",
       "      <td>0.113178</td>\n",
       "    </tr>\n",
       "    <tr>\n",
       "      <th>13173</th>\n",
       "      <td>1.000000</td>\n",
       "      <td>0.00</td>\n",
       "      <td>0.000000</td>\n",
       "    </tr>\n",
       "    <tr>\n",
       "      <th>13174</th>\n",
       "      <td>0.960000</td>\n",
       "      <td>0.01</td>\n",
       "      <td>0.030000</td>\n",
       "    </tr>\n",
       "    <tr>\n",
       "      <th>13175</th>\n",
       "      <td>0.260000</td>\n",
       "      <td>0.01</td>\n",
       "      <td>0.730000</td>\n",
       "    </tr>\n",
       "  </tbody>\n",
       "</table>\n",
       "<p>5271 rows × 3 columns</p>\n",
       "</div>"
      ],
      "text/plain": [
       "              C    CL         D\n",
       "id                             \n",
       "7905   0.654460  0.02  0.325540\n",
       "7906   0.540000  0.09  0.370000\n",
       "7907   0.310000  0.00  0.690000\n",
       "7908   0.910000  0.00  0.090000\n",
       "7909   0.800000  0.02  0.180000\n",
       "...         ...   ...       ...\n",
       "13171  0.630000  0.19  0.180000\n",
       "13172  0.886822  0.00  0.113178\n",
       "13173  1.000000  0.00  0.000000\n",
       "13174  0.960000  0.01  0.030000\n",
       "13175  0.260000  0.01  0.730000\n",
       "\n",
       "[5271 rows x 3 columns]"
      ]
     },
     "execution_count": 56,
     "metadata": {},
     "output_type": "execute_result"
    }
   ],
   "source": [
    "submission = pd.DataFrame(final_pl.predict_proba(test))\n",
    "submission.columns = final_pl.classes_\n",
    "submission['id'] = test.id\n",
    "submission = submission[['id', 'C',\t'CL', 'D']]\n",
    "submission.set_index('id', inplace=True)\n",
    "submission"
   ]
  },
  {
   "cell_type": "markdown",
   "metadata": {},
   "source": [
    "File to submit to competition:"
   ]
  },
  {
   "cell_type": "code",
   "execution_count": 57,
   "metadata": {},
   "outputs": [],
   "source": [
    "submission.to_csv('submission.csv')"
   ]
  }
 ],
 "metadata": {
  "kernelspec": {
   "display_name": "base",
   "language": "python",
   "name": "python3"
  },
  "language_info": {
   "codemirror_mode": {
    "name": "ipython",
    "version": 3
   },
   "file_extension": ".py",
   "mimetype": "text/x-python",
   "name": "python",
   "nbconvert_exporter": "python",
   "pygments_lexer": "ipython3",
   "version": "3.11.4"
  }
 },
 "nbformat": 4,
 "nbformat_minor": 2
}
